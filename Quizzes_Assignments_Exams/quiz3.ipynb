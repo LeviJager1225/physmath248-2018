{
 "cells": [
  {
   "cell_type": "markdown",
   "metadata": {},
   "source": [
    "# Quiz 3\n",
    "March 15, 2018\n",
    "\n",
    "* Beginning of exam: 10:00am\n",
    "* End of exam: 10:20am"
   ]
  },
  {
   "cell_type": "markdown",
   "metadata": {},
   "source": [
    "The file `matrix_and_RHS.txt` contains 11 rows and 10 columns that define  a set of 10 linear equations\n",
    "$$ \\mathbf{B} \\vec{r} = \\vec{q}$$\n",
    "\n",
    "The first 10 rows contain the elements of $\\mathbf{B}$. The 11$^{th}$ row contains the right-hand side $\\vec{q}$. \n",
    "\n",
    "1. Read the file and save the coefficient matrix as variable `B` and the RHS as array `q`. \n",
    "2. Solve the linear equation using `numpy.linalg` to determine  $\\vec{r}$\n",
    "3. What is the sum of all elements of the array `r`? What is the length of vector $\\vec{r}$?\n",
    "4. Make an image of the matrix $\\mathbf{B}$."
   ]
  },
  {
   "cell_type": "code",
   "execution_count": 1,
   "metadata": {
    "scrolled": true
   },
   "outputs": [
    {
     "name": "stdout",
     "output_type": "stream",
     "text": [
      "Populating the interactive namespace from numpy and matplotlib\n"
     ]
    }
   ],
   "source": [
    "%pylab nbagg"
   ]
  },
  {
   "cell_type": "code",
   "execution_count": null,
   "metadata": {},
   "outputs": [],
   "source": []
  }
 ],
 "metadata": {
  "kernelspec": {
   "display_name": "Python 3",
   "language": "python",
   "name": "python3"
  },
  "language_info": {
   "codemirror_mode": {
    "name": "ipython",
    "version": 3
   },
   "file_extension": ".py",
   "mimetype": "text/x-python",
   "name": "python",
   "nbconvert_exporter": "python",
   "pygments_lexer": "ipython3",
   "version": "3.5.2"
  }
 },
 "nbformat": 4,
 "nbformat_minor": 2
}
