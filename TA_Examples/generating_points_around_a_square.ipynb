{
 "cells": [
  {
   "cell_type": "markdown",
   "metadata": {},
   "source": [
    "# Generating Points Around a Square\n",
    "\n",
    "## The Problem\n",
    "\n",
    "Generate a set of points evenly spaced around the boundary of a square.\n",
    "\n",
    "$n$ is the number of points per side. The square's coordinates range from $-a$ to $a$."
   ]
  },
  {
   "cell_type": "code",
   "execution_count": 1,
   "metadata": {
    "collapsed": true
   },
   "outputs": [],
   "source": [
    "import numpy as np\n",
    "import matplotlib.pyplot as plt\n",
    "\n",
    "n = 5\n",
    "a = 2"
   ]
  },
  {
   "cell_type": "markdown",
   "metadata": {},
   "source": [
    "The points on the top edge of the square have $x$-coordinates ranging from $-a$ to $a$ and $y$-coordinates all equal to $a$. Similarly, the points on the left edge have $x$-coordinates all equal to $-a$ and $y$-coordinates ranging from $-a$ to $a$."
   ]
  },
  {
   "cell_type": "markdown",
   "metadata": {
    "collapsed": true
   },
   "source": [
    "## Explicit For Loops"
   ]
  },
  {
   "cell_type": "code",
   "execution_count": 2,
   "metadata": {},
   "outputs": [
    {
     "data": {
      "image/png": "[encoded data removed]",
      "text/plain": [
       "<matplotlib.figure.Figure at 0x7f5569140320>"
      ]
     },
     "metadata": {},
     "output_type": "display_data"
    }
   ],
   "source": [
    "top = []\n",
    "left = []\n",
    "\n",
    "# Iterate over every x-coordinate and pair it with constant y-coordinate.\n",
    "for x in np.linspace(-a, a, n):\n",
    "    top.append((x, a))\n",
    "    \n",
    "# Iterate over every y-coordinate and pair it with constant x-coordinate.\n",
    "for y in np.linspace(-a, a, n):\n",
    "    left.append((-a, y))\n",
    "    \n",
    "# Turn the lists into NumPy arrays to make it easier to extract the lists\n",
    "# of x-coordinates and y-coordinates.\n",
    "top = np.array(top)\n",
    "left = np.array(left)\n",
    "\n",
    "# Slice the x-coordinates from each list of points, then the y-coordinates.\n",
    "plt.plot(top[:,0], top[:,1], 'o')\n",
    "plt.plot(left[:,0], left[:,1], 'o')\n",
    "plt.show()"
   ]
  },
  {
   "cell_type": "markdown",
   "metadata": {},
   "source": [
    "Notice that the upper-left corner is shown in the colour of the left edge because it was plotted last.\n",
    "\n",
    "I can simplify the code a bit."
   ]
  },
  {
   "cell_type": "code",
   "execution_count": 3,
   "metadata": {
    "collapsed": true
   },
   "outputs": [],
   "source": [
    "top = []\n",
    "left = []\n",
    "coordinate_steps = np.linspace(-a, a, n)\n",
    "\n",
    "for x in coordinate_steps:\n",
    "    top.append((x, a))\n",
    "    \n",
    "for y in coordinate_steps:\n",
    "    left.append((-a, y))"
   ]
  },
  {
   "cell_type": "markdown",
   "metadata": {},
   "source": [
    "## NumPy Methods\n",
    "\n",
    "The list of coordinates for the top edge looks like:\n",
    "\n",
    "```\n",
    "[-2, -1, 0, 1, 2]\n",
    "[ 2,  2, 2, 2, 2]\n",
    "```\n",
    "\n",
    "or\n",
    "\n",
    "```\n",
    "[-2, 2]\n",
    "[-1, 2]\n",
    "[ 0, 2]\n",
    "[ 1, 2]\n",
    "[ 2, 2]\n",
    "```\n",
    "\n",
    "We can use NumPy's `ones` function to create the array `[2, 2, 2, 2, 2]`, then NumPy's [stack](https://docs.scipy.org/doc/numpy/reference/generated/numpy.stack.html) function to stick the list `[-2, -1, 0, 1, 2]` and `[2, 2, 2, 2, 2]` together."
   ]
  },
  {
   "cell_type": "code",
   "execution_count": 4,
   "metadata": {},
   "outputs": [
    {
     "name": "stdout",
     "output_type": "stream",
     "text": [
      "Changing coordinate: [-2. -1.  0.  1.  2.]\n",
      "Constant coordinate: [ 2.  2.  2.  2.  2.]\n",
      "Stacked array:\n",
      "[[-2. -1.  0.  1.  2.]\n",
      " [ 2.  2.  2.  2.  2.]]\n"
     ]
    }
   ],
   "source": [
    "coordinate_steps = np.linspace(-a, a, n)\n",
    "coordinate_const = a * np.ones(n)\n",
    "\n",
    "print(\"Changing coordinate:\", coordinate_steps)\n",
    "print(\"Constant coordinate:\", coordinate_const)\n",
    "\n",
    "top = np.stack((coordinate_steps, coordinate_const))\n",
    "\n",
    "print(\"Stacked array:\")\n",
    "print(top)"
   ]
  },
  {
   "cell_type": "markdown",
   "metadata": {},
   "source": [
    "However, notice that `top[0]` isn't what you might expect."
   ]
  },
  {
   "cell_type": "code",
   "execution_count": 5,
   "metadata": {},
   "outputs": [
    {
     "data": {
      "text/plain": [
       "array([-2., -1.,  0.,  1.,  2.])"
      ]
     },
     "execution_count": 5,
     "metadata": {},
     "output_type": "execute_result"
    }
   ],
   "source": [
    "top[0]"
   ]
  },
  {
   "cell_type": "markdown",
   "metadata": {},
   "source": [
    "If you want the first axis of the array to select the point, rather than the coordinate, just tranpose the array.\n",
    "\n",
    "The four edges are now easy to make."
   ]
  },
  {
   "cell_type": "code",
   "execution_count": 6,
   "metadata": {},
   "outputs": [
    {
     "data": {
      "image/png": "[encoded data removed]",
      "text/plain": [
       "<matplotlib.figure.Figure at 0x7f5561dd7a20>"
      ]
     },
     "metadata": {},
     "output_type": "display_data"
    }
   ],
   "source": [
    "top =    np.stack(( coordinate_steps,  coordinate_const)).T\n",
    "bottom = np.stack(( coordinate_steps, -coordinate_const)).T\n",
    "left =   np.stack((-coordinate_const,  coordinate_steps)).T\n",
    "right =  np.stack(( coordinate_const,  coordinate_steps)).T\n",
    "\n",
    "plt.plot(top[:,0],    top[:,1],    'o')\n",
    "plt.plot(bottom[:,0], bottom[:,1], 'o')\n",
    "plt.plot(left[:,0],   left[:,1],   'o')\n",
    "plt.plot(right[:,0],  right[:,1],  'o')\n",
    "plt.show()"
   ]
  },
  {
   "cell_type": "markdown",
   "metadata": {},
   "source": [
    "## Plotting Simplification\n",
    "\n",
    "I can clean up my multiple calls to `plt.plot` with a `for` loop."
   ]
  },
  {
   "cell_type": "code",
   "execution_count": 7,
   "metadata": {},
   "outputs": [
    {
     "data": {
      "image/png": "[encoded data removed]",
      "text/plain": [
       "<matplotlib.figure.Figure at 0x7f5561df7f60>"
      ]
     },
     "metadata": {},
     "output_type": "display_data"
    }
   ],
   "source": [
    "for points in (top, bottom, left, right):\n",
    "    plt.plot(points[:,0], points[:,1], 'o')\n",
    "    \n",
    "plt.show()"
   ]
  }
 ],
 "metadata": {
  "kernelspec": {
   "display_name": "Python 3",
   "language": "python",
   "name": "python3"
  },
  "language_info": {
   "codemirror_mode": {
    "name": "ipython",
    "version": 3
   },
   "file_extension": ".py",
   "mimetype": "text/x-python",
   "name": "python",
   "nbconvert_exporter": "python",
   "pygments_lexer": "ipython3",
   "version": "3.6.3"
  }
 },
 "nbformat": 4,
 "nbformat_minor": 2
}
