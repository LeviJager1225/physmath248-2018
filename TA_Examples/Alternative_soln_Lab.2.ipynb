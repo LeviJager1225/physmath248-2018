{
 "cells": [
  {
   "cell_type": "markdown",
   "metadata": {},
   "source": [
    "### Alternative solution to Part.III/Lab.2\n",
    "by Doug Rennehan (TA)"
   ]
  },
  {
   "cell_type": "code",
   "execution_count": 1,
   "metadata": {},
   "outputs": [],
   "source": [
    "import numpy as np\n",
    "import matplotlib.pyplot as plt"
   ]
  },
  {
   "cell_type": "markdown",
   "metadata": {},
   "source": [
    "# A Transformation Approach to the Problem\n",
    "\n",
    "We can construct our 2D square frame by starting with a standard ruler. This is equivalent to the **pencil** from class, where we constructed a standard ruler that went from -0.5 to 0.5. I want you to consider a standard ruler from 0 to 1 to which we will apply transformations to obtain the square (and any other) shape.\n",
    "\n",
    "First, we create a linear space from 0 to 1 in N steps."
   ]
  },
  {
   "cell_type": "code",
   "execution_count": 1,
   "metadata": {},
   "outputs": [
    {
     "data": {
      "text/plain": [
       "array([ 0.        ,  0.11111111,  0.22222222,  0.33333333,  0.44444444,\n",
       "        0.55555556,  0.66666667,  0.77777778,  0.88888889,  1.        ])"
      ]
     },
     "execution_count": 1,
     "metadata": {},
     "output_type": "execute_result"
    }
   ],
   "source": [
    "N = 10\n",
    "std_ruler = np.linspace(0, 1, N)\n",
    "\n",
    "std_ruler"
   ]
  },
  {
   "cell_type": "markdown",
   "metadata": {},
   "source": [
    "You can think of the vector connecting the first and last points of **std_ruler** as a unit vector that points in *some direction unknown to us at this point*. It could be $\\hat{x}$ or $\\hat{y}$ here, and we need another coordinate in order to tell which direction the vector is pointing.\n",
    "\n",
    "If we want **std_ruler** to be a unit vector in the $\\hat{x}$ direction, our *second coordinate* will be all $0$. Likewise, if we want **std_ruler** to point in the $\\hat{y}$ direction we construct a *first coordinate* that will be all $0$.\n",
    "\n",
    "I'm going to choose this to be the $\\hat{x}$ unit vector. Therefore I need a new vector **y_coords** that is all zeros and the same length as **std_ruler**.\n",
    "\n",
    "**Important Note:** each point in **std_ruler** represents a vector. Think about taking 0, the first element of std_ruler and creating a vector from each other point."
   ]
  },
  {
   "cell_type": "code",
   "execution_count": 3,
   "metadata": {},
   "outputs": [
    {
     "data": {
      "text/plain": [
       "array([ 0.,  0.,  0.,  0.,  0.,  0.,  0.,  0.,  0.,  0.])"
      ]
     },
     "execution_count": 3,
     "metadata": {},
     "output_type": "execute_result"
    }
   ],
   "source": [
    "y_coords = np.zeros(len(std_ruler))\n",
    "\n",
    "y_coords"
   ]
  },
  {
   "cell_type": "markdown",
   "metadata": {},
   "source": [
    "Great, we have our $x$ and $y$ coordinates of the unit vector. There is a problem however: these aren't in the familiar form of ordered pairs $(x,y)$, they are two separate vectors!\n",
    "\n",
    "We need to combine **std_ruler** and **y_coords** into ordered pairs. My favorite way to do this is using numpy <a href=\"https://docs.scipy.org/doc/numpy/reference/generated/numpy.vstack.html\" target=\"_blank\">vstack</a>. This stacks two vectors **v**ertically into a single column. In the case of 1D vectors, both vectors need to be the same length $N$. \n",
    "\n",
    "For our case of stacking two vectors, it will produce a numpy array with $2$ rows and $N$ columns. However, we want $N$ rows and $2$ columns for row-major ordering. This can be done with a transpose using numpy <a href=\"https://docs.scipy.org/doc/numpy/reference/generated/numpy.transpose.html\" target=\"_blank\">transpose</a>."
   ]
  },
  {
   "cell_type": "code",
   "execution_count": 4,
   "metadata": {},
   "outputs": [
    {
     "data": {
      "text/plain": [
       "array([[ 0.        ,  0.11111111,  0.22222222,  0.33333333,  0.44444444,\n",
       "         0.55555556,  0.66666667,  0.77777778,  0.88888889,  1.        ],\n",
       "       [ 0.        ,  0.        ,  0.        ,  0.        ,  0.        ,\n",
       "         0.        ,  0.        ,  0.        ,  0.        ,  0.        ]])"
      ]
     },
     "execution_count": 4,
     "metadata": {},
     "output_type": "execute_result"
    }
   ],
   "source": [
    "real_vectors = np.vstack((std_ruler, y_coords))\n",
    "\n",
    "real_vectors"
   ]
  },
  {
   "cell_type": "code",
   "execution_count": 5,
   "metadata": {},
   "outputs": [
    {
     "data": {
      "text/plain": [
       "array([[ 0.        ,  0.        ],\n",
       "       [ 0.11111111,  0.        ],\n",
       "       [ 0.22222222,  0.        ],\n",
       "       [ 0.33333333,  0.        ],\n",
       "       [ 0.44444444,  0.        ],\n",
       "       [ 0.55555556,  0.        ],\n",
       "       [ 0.66666667,  0.        ],\n",
       "       [ 0.77777778,  0.        ],\n",
       "       [ 0.88888889,  0.        ],\n",
       "       [ 1.        ,  0.        ]])"
      ]
     },
     "execution_count": 5,
     "metadata": {},
     "output_type": "execute_result"
    }
   ],
   "source": [
    "real_vectors = np.transpose(real_vectors)\n",
    "\n",
    "real_vectors"
   ]
  },
  {
   "cell_type": "markdown",
   "metadata": {},
   "source": [
    "## What was the point of that?\n",
    "\n",
    "We now have a set of $N$ vectors that we can apply transformations to, let's call the set of these vectors $\\vec{v}$.\n",
    "\n",
    "Now we can apply 2 constant vector transformations to $\\vec{v}$ to obtain the set of points $x \\in [-0.5, 0.5]$, and $y = -0.5$.  This is one of the edges of our square.\n",
    "\n",
    "The **first** transformation is $\\vec{v}' = \\vec{v} + \\vec{a}$, where $\\vec{a} = (-0.5, 0)$.\n",
    "\n",
    "The **second** transformation is $\\vec{v}'' = \\vec{v}' + \\vec{b}$, where $\\vec{b} = (0, -0.5)$.\n",
    "\n",
    "Ordering does not matter here, so we can apply both at once using,\n",
    "\n",
    "$\\vec{v}' = \\vec{v} + \\vec{a} + \\vec{b} = \\vec{v} + \\vec{c}$,\n",
    "\n",
    "where $\\vec{c} = \\vec{a} + \\vec{b} = (-0.5, -0.5)$."
   ]
  },
  {
   "cell_type": "code",
   "execution_count": 6,
   "metadata": {},
   "outputs": [
    {
     "data": {
      "text/plain": [
       "array([[-0.5       , -0.5       ],\n",
       "       [-0.38888889, -0.5       ],\n",
       "       [-0.27777778, -0.5       ],\n",
       "       [-0.16666667, -0.5       ],\n",
       "       [-0.05555556, -0.5       ],\n",
       "       [ 0.05555556, -0.5       ],\n",
       "       [ 0.16666667, -0.5       ],\n",
       "       [ 0.27777778, -0.5       ],\n",
       "       [ 0.38888889, -0.5       ],\n",
       "       [ 0.5       , -0.5       ]])"
      ]
     },
     "execution_count": 6,
     "metadata": {},
     "output_type": "execute_result"
    }
   ],
   "source": [
    "c = np.array([-0.5, -0.5])\n",
    "\n",
    "bottom_edge = real_vectors + c\n",
    "\n",
    "bottom_edge"
   ]
  },
  {
   "cell_type": "markdown",
   "metadata": {},
   "source": [
    "I hope you now see how we can construct the 3 other edges. Let's move clockwise around the edges and create **left_edge**, **top_edge**, and **right_edge** using our standard ruler.\n",
    "\n",
    "How can we construct **left_edge** from **real_vectors**? First we need to rotate 90 degrees ($\\frac{\\pi}{2}$ radians) counter clock-wise, and then shift down by the transformation $\\vec{a} = (-0.5, 0)$.\n",
    "\n",
    "Think about that transformation for a second.\n",
    "\n",
    "We also need a way to rotate vectors. Let's write a function that rotates a vector by an angle theta! We need a **rotation_matrix** and we need to use numpy <a href=\"https://docs.scipy.org/doc/numpy/reference/generated/numpy.dot.html\" target=\"_blank\">dot</a> to do the matrix multiplication.\n",
    "\n",
    "Because our vector is (N,2), we need to transpose it before rotating due to the requirements of **dot**. The answer we get from the dot product also needs to be transposed back into the form (N,2) that we want.\n",
    "\n",
    "**Note**: You can get creative and create them from bottom_edge, it is the same process except you need to be careful of where the zero point is."
   ]
  },
  {
   "cell_type": "code",
   "execution_count": 7,
   "metadata": {},
   "outputs": [],
   "source": [
    "def rotate(vector, theta):\n",
    "    rotation_matrix = np.array([[np.cos(theta), -np.sin(theta)],\n",
    "                               [np.sin(theta), np.cos(theta)]])\n",
    "    \n",
    "    return np.dot(rotation_matrix, vector.T).T"
   ]
  },
  {
   "cell_type": "markdown",
   "metadata": {},
   "source": [
    "First, we print out **real_vectors** and then apply a couple of transformations to see it in action.\n",
    "\n",
    "**Note**: The angles must be in radians."
   ]
  },
  {
   "cell_type": "code",
   "execution_count": 8,
   "metadata": {},
   "outputs": [
    {
     "data": {
      "text/plain": [
       "array([[ 0.        ,  0.        ],\n",
       "       [ 0.11111111,  0.        ],\n",
       "       [ 0.22222222,  0.        ],\n",
       "       [ 0.33333333,  0.        ],\n",
       "       [ 0.44444444,  0.        ],\n",
       "       [ 0.55555556,  0.        ],\n",
       "       [ 0.66666667,  0.        ],\n",
       "       [ 0.77777778,  0.        ],\n",
       "       [ 0.88888889,  0.        ],\n",
       "       [ 1.        ,  0.        ]])"
      ]
     },
     "execution_count": 8,
     "metadata": {},
     "output_type": "execute_result"
    }
   ],
   "source": [
    "real_vectors"
   ]
  },
  {
   "cell_type": "code",
   "execution_count": 9,
   "metadata": {},
   "outputs": [
    {
     "data": {
      "text/plain": [
       "array([[  0.00000000e+00,   0.00000000e+00],\n",
       "       [  6.80359333e-18,   1.11111111e-01],\n",
       "       [  1.36071867e-17,   2.22222222e-01],\n",
       "       [  2.04107800e-17,   3.33333333e-01],\n",
       "       [  2.72143733e-17,   4.44444444e-01],\n",
       "       [  3.40179666e-17,   5.55555556e-01],\n",
       "       [  4.08215600e-17,   6.66666667e-01],\n",
       "       [  4.76251533e-17,   7.77777778e-01],\n",
       "       [  5.44287466e-17,   8.88888889e-01],\n",
       "       [  6.12323400e-17,   1.00000000e+00]])"
      ]
     },
     "execution_count": 9,
     "metadata": {},
     "output_type": "execute_result"
    }
   ],
   "source": [
    "rotate(real_vectors, np.pi / 2) # 90 degrees"
   ]
  },
  {
   "cell_type": "code",
   "execution_count": 10,
   "metadata": {},
   "outputs": [
    {
     "data": {
      "text/plain": [
       "array([[  0.00000000e+00,   0.00000000e+00],\n",
       "       [ -1.11111111e-01,   1.36071867e-17],\n",
       "       [ -2.22222222e-01,   2.72143733e-17],\n",
       "       [ -3.33333333e-01,   4.08215600e-17],\n",
       "       [ -4.44444444e-01,   5.44287466e-17],\n",
       "       [ -5.55555556e-01,   6.80359333e-17],\n",
       "       [ -6.66666667e-01,   8.16431199e-17],\n",
       "       [ -7.77777778e-01,   9.52503066e-17],\n",
       "       [ -8.88888889e-01,   1.08857493e-16],\n",
       "       [ -1.00000000e+00,   1.22464680e-16]])"
      ]
     },
     "execution_count": 10,
     "metadata": {},
     "output_type": "execute_result"
    }
   ],
   "source": [
    "rotate(real_vectors, np.pi) # 180 degrees"
   ]
  },
  {
   "cell_type": "code",
   "execution_count": 11,
   "metadata": {},
   "outputs": [
    {
     "data": {
      "text/plain": [
       "array([[  0.00000000e+00,   0.00000000e+00],\n",
       "       [  1.11111111e-01,  -2.72143733e-17],\n",
       "       [  2.22222222e-01,  -5.44287466e-17],\n",
       "       [  3.33333333e-01,  -8.16431199e-17],\n",
       "       [  4.44444444e-01,  -1.08857493e-16],\n",
       "       [  5.55555556e-01,  -1.36071867e-16],\n",
       "       [  6.66666667e-01,  -1.63286240e-16],\n",
       "       [  7.77777778e-01,  -1.90500613e-16],\n",
       "       [  8.88888889e-01,  -2.17714987e-16],\n",
       "       [  1.00000000e+00,  -2.44929360e-16]])"
      ]
     },
     "execution_count": 11,
     "metadata": {},
     "output_type": "execute_result"
    }
   ],
   "source": [
    "rotate(real_vectors, 2 * np.pi) # 360 degrees"
   ]
  },
  {
   "cell_type": "markdown",
   "metadata": {},
   "source": [
    "What are those extremely small numbers? Those are rounding errors. They are close enough to $0$ that it won't matter.\n",
    "\n",
    "Let's apply the rotation, followed by a translation to get **left_edge**.\n",
    "\n",
    "**Important Note**: The ordering does matter here.\n",
    "\n",
    "$\\vec{v}' = R\\vec{v} + \\vec{a} \\neq R(\\vec{v} + \\vec{a})$"
   ]
  },
  {
   "cell_type": "code",
   "execution_count": 12,
   "metadata": {},
   "outputs": [
    {
     "data": {
      "text/plain": [
       "array([[-0.5       , -0.5       ],\n",
       "       [-0.5       , -0.38888889],\n",
       "       [-0.5       , -0.27777778],\n",
       "       [-0.5       , -0.16666667],\n",
       "       [-0.5       , -0.05555556],\n",
       "       [-0.5       ,  0.05555556],\n",
       "       [-0.5       ,  0.16666667],\n",
       "       [-0.5       ,  0.27777778],\n",
       "       [-0.5       ,  0.38888889],\n",
       "       [-0.5       ,  0.5       ]])"
      ]
     },
     "execution_count": 12,
     "metadata": {},
     "output_type": "execute_result"
    }
   ],
   "source": [
    "a_left_edge = np.array([-0.5, -0.5])\n",
    "\n",
    "left_edge = rotate(real_vectors, np.pi / 2) + a_left_edge\n",
    "\n",
    "left_edge"
   ]
  },
  {
   "cell_type": "markdown",
   "metadata": {},
   "source": [
    "The other edges should be just as easy now! Think about the transformations needed for each."
   ]
  },
  {
   "cell_type": "code",
   "execution_count": 13,
   "metadata": {},
   "outputs": [
    {
     "data": {
      "text/plain": [
       "array([[-0.5       ,  0.5       ],\n",
       "       [-0.38888889,  0.5       ],\n",
       "       [-0.27777778,  0.5       ],\n",
       "       [-0.16666667,  0.5       ],\n",
       "       [-0.05555556,  0.5       ],\n",
       "       [ 0.05555556,  0.5       ],\n",
       "       [ 0.16666667,  0.5       ],\n",
       "       [ 0.27777778,  0.5       ],\n",
       "       [ 0.38888889,  0.5       ],\n",
       "       [ 0.5       ,  0.5       ]])"
      ]
     },
     "execution_count": 13,
     "metadata": {},
     "output_type": "execute_result"
    }
   ],
   "source": [
    "a_top_edge = np.array([-0.5, 0.5])\n",
    "\n",
    "top_edge = real_vectors + a_top_edge\n",
    "\n",
    "top_edge"
   ]
  },
  {
   "cell_type": "code",
   "execution_count": 14,
   "metadata": {},
   "outputs": [
    {
     "data": {
      "text/plain": [
       "array([[ 0.5       , -0.5       ],\n",
       "       [ 0.5       , -0.38888889],\n",
       "       [ 0.5       , -0.27777778],\n",
       "       [ 0.5       , -0.16666667],\n",
       "       [ 0.5       , -0.05555556],\n",
       "       [ 0.5       ,  0.05555556],\n",
       "       [ 0.5       ,  0.16666667],\n",
       "       [ 0.5       ,  0.27777778],\n",
       "       [ 0.5       ,  0.38888889],\n",
       "       [ 0.5       ,  0.5       ]])"
      ]
     },
     "execution_count": 14,
     "metadata": {},
     "output_type": "execute_result"
    }
   ],
   "source": [
    "a_right_edge = np.array([0.5, -0.5])\n",
    "\n",
    "right_edge = rotate(real_vectors, np.pi / 2) + a_right_edge\n",
    "\n",
    "right_edge"
   ]
  },
  {
   "cell_type": "markdown",
   "metadata": {},
   "source": [
    "### Putting it all together\n",
    "\n",
    "Remember that **vstack** function? Well all we have to do is stack our 4 sets of ordered pairs together to get all the points for our square!"
   ]
  },
  {
   "cell_type": "code",
   "execution_count": 15,
   "metadata": {},
   "outputs": [
    {
     "data": {
      "text/plain": [
       "array([[-0.5       , -0.5       ],\n",
       "       [-0.38888889, -0.5       ],\n",
       "       [-0.27777778, -0.5       ],\n",
       "       [-0.16666667, -0.5       ],\n",
       "       [-0.05555556, -0.5       ],\n",
       "       [ 0.05555556, -0.5       ],\n",
       "       [ 0.16666667, -0.5       ],\n",
       "       [ 0.27777778, -0.5       ],\n",
       "       [ 0.38888889, -0.5       ],\n",
       "       [ 0.5       , -0.5       ],\n",
       "       [-0.5       , -0.5       ],\n",
       "       [-0.5       , -0.38888889],\n",
       "       [-0.5       , -0.27777778],\n",
       "       [-0.5       , -0.16666667],\n",
       "       [-0.5       , -0.05555556],\n",
       "       [-0.5       ,  0.05555556],\n",
       "       [-0.5       ,  0.16666667],\n",
       "       [-0.5       ,  0.27777778],\n",
       "       [-0.5       ,  0.38888889],\n",
       "       [-0.5       ,  0.5       ],\n",
       "       [-0.5       ,  0.5       ],\n",
       "       [-0.38888889,  0.5       ],\n",
       "       [-0.27777778,  0.5       ],\n",
       "       [-0.16666667,  0.5       ],\n",
       "       [-0.05555556,  0.5       ],\n",
       "       [ 0.05555556,  0.5       ],\n",
       "       [ 0.16666667,  0.5       ],\n",
       "       [ 0.27777778,  0.5       ],\n",
       "       [ 0.38888889,  0.5       ],\n",
       "       [ 0.5       ,  0.5       ],\n",
       "       [ 0.5       , -0.5       ],\n",
       "       [ 0.5       , -0.38888889],\n",
       "       [ 0.5       , -0.27777778],\n",
       "       [ 0.5       , -0.16666667],\n",
       "       [ 0.5       , -0.05555556],\n",
       "       [ 0.5       ,  0.05555556],\n",
       "       [ 0.5       ,  0.16666667],\n",
       "       [ 0.5       ,  0.27777778],\n",
       "       [ 0.5       ,  0.38888889],\n",
       "       [ 0.5       ,  0.5       ]])"
      ]
     },
     "execution_count": 15,
     "metadata": {},
     "output_type": "execute_result"
    }
   ],
   "source": [
    "square = np.vstack((bottom_edge, left_edge, top_edge, right_edge))\n",
    "\n",
    "square"
   ]
  },
  {
   "cell_type": "markdown",
   "metadata": {},
   "source": [
    "Let's make a quick plotting function so we can visualize the square and its transformations. We want a scatter plot to see how the points transform, and we can use matplotlib <a href=\"https://matplotlib.org/api/_as_gen/matplotlib.pyplot.scatter.html\" target=\"_blank\">scatter</a> to do this.\n",
    "\n",
    "It requires $(x,y)$ pairs, and therefore we need to take slices of whatever we want to plot.\n",
    "\n",
    "For example, **square** contains $N$ rows and 2 columns. To get all of the $x$ values, I use the following."
   ]
  },
  {
   "cell_type": "code",
   "execution_count": 16,
   "metadata": {},
   "outputs": [
    {
     "data": {
      "text/plain": [
       "array([-0.5       , -0.38888889, -0.27777778, -0.16666667, -0.05555556,\n",
       "        0.05555556,  0.16666667,  0.27777778,  0.38888889,  0.5       ,\n",
       "       -0.5       , -0.5       , -0.5       , -0.5       , -0.5       ,\n",
       "       -0.5       , -0.5       , -0.5       , -0.5       , -0.5       ,\n",
       "       -0.5       , -0.38888889, -0.27777778, -0.16666667, -0.05555556,\n",
       "        0.05555556,  0.16666667,  0.27777778,  0.38888889,  0.5       ,\n",
       "        0.5       ,  0.5       ,  0.5       ,  0.5       ,  0.5       ,\n",
       "        0.5       ,  0.5       ,  0.5       ,  0.5       ,  0.5       ])"
      ]
     },
     "execution_count": 16,
     "metadata": {},
     "output_type": "execute_result"
    }
   ],
   "source": [
    "square[:, 0]"
   ]
  },
  {
   "cell_type": "markdown",
   "metadata": {},
   "source": [
    "The colon **:** means **every index**. The $0$ refers to the **first column**."
   ]
  },
  {
   "cell_type": "code",
   "execution_count": 17,
   "metadata": {},
   "outputs": [],
   "source": [
    "def plot_pairs(pairs):\n",
    "    plt.figure(figsize = (8, 8))\n",
    "    plt.scatter(pairs[:, 0], pairs[:, 1])\n",
    "    plt.show()\n",
    "    plt.close()"
   ]
  },
  {
   "cell_type": "code",
   "execution_count": 18,
   "metadata": {},
   "outputs": [
    {
     "data": {
      "image/png": "[encoded data removed]",
      "text/plain": [
       "<matplotlib.figure.Figure at 0x7f8d5c030080>"
      ]
     },
     "metadata": {},
     "output_type": "display_data"
    }
   ],
   "source": [
    "plot_pairs(square)"
   ]
  },
  {
   "cell_type": "markdown",
   "metadata": {},
   "source": [
    "## Applying Transformations to the square and examples\n",
    "\n",
    "We already have a **rotate** function, but what about other operations? Let's define shear and dilate/contract functions."
   ]
  },
  {
   "cell_type": "code",
   "execution_count": 31,
   "metadata": {},
   "outputs": [],
   "source": [
    "def shear(vector, m, axis = 'x'):\n",
    "    if axis == 'x':\n",
    "        shear_matrix = np.array([[1, m],\n",
    "                                 [0, 1]])\n",
    "    else:\n",
    "        shear_matrix = np.array([[1, 0],\n",
    "                                 [m, 1]])\n",
    "        \n",
    "    return np.dot(shear_matrix, vector.T).T"
   ]
  },
  {
   "cell_type": "code",
   "execution_count": 32,
   "metadata": {},
   "outputs": [],
   "source": [
    "sheared_square = shear(square, 2, axis = 'x')"
   ]
  },
  {
   "cell_type": "code",
   "execution_count": 33,
   "metadata": {},
   "outputs": [
    {
     "data": {
      "image/png": "[encoded data removed]",
      "text/plain": [
       "<matplotlib.figure.Figure at 0x7f8d4dd232e8>"
      ]
     },
     "metadata": {},
     "output_type": "display_data"
    }
   ],
   "source": [
    "plot_pairs(sheared_square)"
   ]
  },
  {
   "cell_type": "code",
   "execution_count": 34,
   "metadata": {},
   "outputs": [],
   "source": [
    "def dilate(vector, m):\n",
    "    dilation_matrix = np.array([[m, 0],\n",
    "                               [0, m]])\n",
    "    \n",
    "    return np.dot(dilation_matrix, vector.T).T"
   ]
  },
  {
   "cell_type": "code",
   "execution_count": 35,
   "metadata": {},
   "outputs": [],
   "source": [
    "expand_square = dilate(square, 2)\n",
    "contract_square = dilate(square, 1 / 2)"
   ]
  },
  {
   "cell_type": "code",
   "execution_count": 36,
   "metadata": {},
   "outputs": [
    {
     "data": {
      "image/png": "[encoded data removed]",
      "text/plain": [
       "<matplotlib.figure.Figure at 0x7f8d4dab48d0>"
      ]
     },
     "metadata": {},
     "output_type": "display_data"
    }
   ],
   "source": [
    "plot_pairs(expand_square)"
   ]
  },
  {
   "cell_type": "code",
   "execution_count": 37,
   "metadata": {},
   "outputs": [
    {
     "data": {
      "image/png": "[encoded data removed]",
      "text/plain": [
       "<matplotlib.figure.Figure at 0x7f8d4daa2e48>"
      ]
     },
     "metadata": {},
     "output_type": "display_data"
    }
   ],
   "source": [
    "plot_pairs(contract_square)"
   ]
  },
  {
   "cell_type": "markdown",
   "metadata": {},
   "source": [
    "Let's plot all of them together in different colors."
   ]
  },
  {
   "cell_type": "code",
   "execution_count": 38,
   "metadata": {},
   "outputs": [
    {
     "data": {
      "image/png": "[encoded data removed]",
      "text/plain": [
       "<matplotlib.figure.Figure at 0x7f8d4d9f98d0>"
      ]
     },
     "metadata": {},
     "output_type": "display_data"
    }
   ],
   "source": [
    "import matplotlib\n",
    "import seaborn as sb\n",
    "matplotlib.style.use('seaborn-ticks')\n",
    "plot_style = {'xtick.direction': 'in',\n",
    "             'ytick.direction': 'in',\n",
    "             'font.family': ['DejaVu Serif'],\n",
    "             'font.serif': ['Times New Roman']}\n",
    "\n",
    "sb.set_style(plot_style)\n",
    "\n",
    "plt.figure(figsize = (8, 8))\n",
    "plt.ylim([-2, 2])\n",
    "plt.xlim([-2, 2])\n",
    "plt.scatter(square[:, 0], square[:, 1], label = 'Square')\n",
    "plt.scatter(sheared_square[:, 0], sheared_square[:, 1], label = 'x-Shear')\n",
    "plt.scatter(expand_square[:, 0], expand_square[:, 1], label = 'Expand')\n",
    "plt.scatter(contract_square[:, 0], contract_square[:, 1], label = 'Contract')\n",
    "plt.tick_params(top = True, right = True)\n",
    "plt.tick_params(labelsize = 14)\n",
    "plt.legend(fontsize = 14)\n",
    "plt.show()\n",
    "plt.close()"
   ]
  },
  {
   "cell_type": "markdown",
   "metadata": {},
   "source": [
    "## Triangles?\n",
    "\n",
    "This method is general enough that we could also construct triangles. But we will run into a problem. Do you know how to solve it?"
   ]
  },
  {
   "cell_type": "code",
   "execution_count": 42,
   "metadata": {},
   "outputs": [
    {
     "data": {
      "image/png": "[encoded data removed]",
      "text/plain": [
       "<matplotlib.figure.Figure at 0x7f8d4d9c3898>"
      ]
     },
     "metadata": {},
     "output_type": "display_data"
    }
   ],
   "source": [
    "N = 10\n",
    "triangle_ruler = np.linspace(0, 1, N)\n",
    "triangle_ruler_y = np.zeros(N)\n",
    "\n",
    "real_triangle_ruler = np.vstack((triangle_ruler, triangle_ruler_y)).T\n",
    "\n",
    "triangle_bottom_edge = real_triangle_ruler\n",
    "triangle_left_edge = rotate(real_triangle_ruler, np.pi / 4)\n",
    "triangle_right_edge = rotate(real_triangle_ruler, 3 * np.pi / 4) + np.array([1.0, 0])\n",
    "\n",
    "triangle = np.vstack((triangle_bottom_edge, triangle_left_edge, triangle_right_edge))\n",
    "\n",
    "plot_pairs(triangle)"
   ]
  },
  {
   "cell_type": "code",
   "execution_count": null,
   "metadata": {},
   "outputs": [],
   "source": []
  }
 ],
 "metadata": {
  "kernelspec": {
   "display_name": "Python 3",
   "language": "python",
   "name": "python3"
  },
  "language_info": {
   "codemirror_mode": {
    "name": "ipython",
    "version": 3
   },
   "file_extension": ".py",
   "mimetype": "text/x-python",
   "name": "python",
   "nbconvert_exporter": "python",
   "pygments_lexer": "ipython3",
   "version": "3.5.2"
  }
 },
 "nbformat": 4,
 "nbformat_minor": 2
}
