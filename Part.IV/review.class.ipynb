{
 "cells": [
  {
   "cell_type": "markdown",
   "metadata": {},
   "source": [
    "## Review class\n",
    "\n",
    "In this review we will download and process a large **.csv** file.  We choose the **Victoria Police Department Crime Database**."
   ]
  },
  {
   "cell_type": "code",
   "execution_count": null,
   "metadata": {},
   "outputs": [],
   "source": [
    "%%bash\n",
    "wget https://moto.data.socrata.com/api/views/f42u-v6f3/rows.csv?accessType=DOWNLOAD -O vicpd.csv"
   ]
  },
  {
   "cell_type": "code",
   "execution_count": null,
   "metadata": {},
   "outputs": [],
   "source": [
    "fname = \"vicpd.csv\"\n",
    "with open(fname) as f:\n",
    "    content = f.readlines()\n",
    "    #print(content[0])\n",
    "    # the keys are the first line of the file, let's split it and save as a key array.\n",
    "    # first, let's remove the \\n.\n",
    "    keys = content[0].translate({ord(c) : None for c in '\\n'})\n",
    "    keys = keys.split(\",\")\n",
    "    ## good, now let's collect the records into a list of dicts.\n",
    "    mList = []\n",
    "    for i in range(1, len(content)):\n",
    "        line = content[i].translate({ord(c) : None for c in '\\n'})\n",
    "        line = line.split(\",\")\n",
    "        dat = {keys[j] : line[j] for j in range(len(line))}\n",
    "        mList.append(dat)\n",
    "    print(len(mList),  \"records\")"
   ]
  },
  {
   "cell_type": "code",
   "execution_count": null,
   "metadata": {},
   "outputs": [],
   "source": [
    "## next, let's make the records more useful. \n",
    "#print(mList[1])\n",
    "import datetime as dt\n",
    "\n",
    "## let's make the:\n",
    "##  python datetime objects for incident_datetime, updated_at, created_at\n",
    "for x in mList:\n",
    "    x['incident_datetime'] = dt.datetime.strptime(x['incident_datetime'], \"%m/%d/%Y %I:%M:%S %p\")\n",
    "    x['updated_at'] = dt.datetime.strptime(x['updated_at'], \"%m/%d/%Y %I:%M:%S %p\")\n",
    "    x['created_at'] = dt.datetime.strptime(x['created_at'], \"%m/%d/%Y %I:%M:%S %p\")\n",
    "\n",
    "\n",
    "print(mList[1])"
   ]
  },
  {
   "cell_type": "code",
   "execution_count": null,
   "metadata": {},
   "outputs": [],
   "source": [
    "##  make location a pair of floats\n",
    "for x in mList:\n",
    "    if x['address_2'].upper() != '':\n",
    "        print(x)"
   ]
  },
  {
   "cell_type": "code",
   "execution_count": null,
   "metadata": {},
   "outputs": [],
   "source": [
    "##  check to see if some elements can be removed. country. zip. clearance_type. day_of_week. \n",
    "##    incident_description. state. address_2. longiitude. hour_of_day. etc.\n",
    "for x in mList:\n",
    "    del x['zip']\n",
    "    del x['country']\n",
    "    del x['day_of_week']\n",
    "    del x['state']\n",
    "    del x['clearance_type']\n",
    "    del x['incident_description']\n",
    "    del x['address_2']\n",
    "    del x['hour_of_day']"
   ]
  },
  {
   "cell_type": "code",
   "execution_count": null,
   "metadata": {},
   "outputs": [],
   "source": [
    "print(mList[0])"
   ]
  },
  {
   "cell_type": "code",
   "execution_count": null,
   "metadata": {},
   "outputs": [],
   "source": [
    "## let's make latitude and longitude into floats, and make the location a pair. then erase latitude and longitude.\n",
    "## first, let's purge the one record that does not have a location\n",
    "\n",
    "newList = []\n",
    "for x in mList:\n",
    "    if x['longitude'] == '':\n",
    "        continue\n",
    "    newList.append(x)\n",
    "mList = newList\n",
    "\n",
    "for x in mList:\n",
    "    x['longitude'] = float(x['longitude'])\n",
    "    x['latitude'] = float(x['latitude'])\n",
    "    x['location'] = (x['latitude'], x['longitude'])\n",
    "    del x['longitude']\n",
    "    del x['latitude']\n",
    "    \n",
    "print(mList[0])"
   ]
  },
  {
   "cell_type": "code",
   "execution_count": null,
   "metadata": {},
   "outputs": [],
   "source": [
    "## let's make a breakdown of all the crime types as a dict of sets.\n",
    "import collections as pyco\n",
    "cTypes = pyco.defaultdict(set)\n",
    "\n",
    "for x in mList:\n",
    "    cTypes[x['parent_incident_type']].add(x['incident_type_primary'])\n",
    "    \n",
    "for k in cTypes.keys():\n",
    "    print(k, ': ', sep='', end='')\n",
    "    for x in cTypes[k]:\n",
    "        print(x, end=', ')\n",
    "    print('\\n', end='')\n"
   ]
  },
  {
   "cell_type": "code",
   "execution_count": null,
   "metadata": {},
   "outputs": [],
   "source": [
    "## let's work out the percentages of the parent types and incident types, respectively, and make them into\n",
    "## pie charts.\n",
    "\n",
    "cCount = pyco.defaultdict(int)\n",
    "for x in mList:\n",
    "    cCount[x['parent_incident_type']] += 1\n",
    "    cCount[(x['parent_incident_type'], x['incident_type_primary'])] += 1\n",
    "    \n",
    "for k,v in cCount.items():\n",
    "    if isinstance(k, str):\n",
    "        print(k, v)\n",
    "print(\"\\n\")\n",
    "\n",
    "## and let's print out all the Traffic types\n",
    "for k,v in cCount.items():\n",
    "    if isinstance(k, tuple) and k[0]=='Traffic':\n",
    "        print(k, v)\n",
    "        "
   ]
  },
  {
   "cell_type": "code",
   "execution_count": null,
   "metadata": {},
   "outputs": [],
   "source": [
    "## let's make some pie charts. First the primary crime types.\n",
    "\n",
    "pct = [100*v/len(mList) for k,v in cCount.items() if isinstance(k, str)]\n",
    "lab = [k for k,v in cCount.items() if isinstance(k,str)]\n",
    "print(len(pct))\n",
    "\n",
    "import matplotlib.pyplot as plt\n",
    "with plt.xkcd(): ## this enables the xkcd style.\n",
    "    plt.pie(pct, labels=lab, autopct='%1.1f%%')"
   ]
  },
  {
   "cell_type": "code",
   "execution_count": null,
   "metadata": {},
   "outputs": [],
   "source": [
    "## let's make some pie charts. Let's do another for traffic\n",
    "\n",
    "pct = [100*v/cCount['Traffic'] for k,v in cCount.items() if isinstance(k, tuple) and k[0]=='Traffic']\n",
    "lab = [k[1] for k,v in cCount.items() if isinstance(k,tuple) and k[0]=='Traffic']\n",
    "print(len(pct))\n",
    "\n",
    "import matplotlib.pyplot as plt\n",
    "with plt.xkcd(): ## this enables the xkcd style.\n",
    "    plt.pie(pct, labels=lab, autopct='%1.1f%%')"
   ]
  },
  {
   "cell_type": "code",
   "execution_count": null,
   "metadata": {},
   "outputs": [],
   "source": [
    "import folium as fo\n",
    "from folium import plugins as fpl\n",
    "\n",
    "## heat plot of all driving complaints\n",
    "\n",
    "hdat = [[x['location'][0], x['location'][1], 0.02] for x in mList \\\n",
    "        if x['incident_type_primary'] == 'DRIVING COMPLAINTS']\n",
    "\n",
    "mapa = fo.Map([48.4323, -123.3720], tiles='Stamen Terrain', zoom_start=13)\n",
    "mapa.add_child(fpl.HeatMap(hdat))\n",
    "mapa\n"
   ]
  },
  {
   "cell_type": "code",
   "execution_count": null,
   "metadata": {},
   "outputs": [],
   "source": []
  }
 ],
 "metadata": {
  "kernelspec": {
   "display_name": "Python 3",
   "language": "python",
   "name": "python3"
  },
  "language_info": {
   "codemirror_mode": {
    "name": "ipython",
    "version": 3
   },
   "file_extension": ".py",
   "mimetype": "text/x-python",
   "name": "python",
   "nbconvert_exporter": "python",
   "pygments_lexer": "ipython3",
   "version": "3.5.2"
  }
 },
 "nbformat": 4,
 "nbformat_minor": 2
}
