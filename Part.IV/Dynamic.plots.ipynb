{
 "cells": [
  {
   "cell_type": "markdown",
   "metadata": {},
   "source": [
    "# Dynamic plots\n",
    "\n",
    "\n",
    " 1. Animmated plots\n",
    " 2. pendulum plots, single pendulum, \n",
    " 3. double pendulum, \n",
    " 4. perhaps try a spherical pendulum?\n",
    " 5. triple pendulum? "
   ]
  },
  {
   "cell_type": "markdown",
   "metadata": {},
   "source": [
    "# Topic 1 - Animated plots.\n",
    "\n",
    "## a simple progress indicator\n",
    "\n",
    "Say you have a lengthy computation and want to illustrate the progress made, so you don't get too impatient.  For example, the Newton basins of attraction plot.  We will use the [**tqdm**](https://pypi.python.org/pypi/tqdm) library for this."
   ]
  },
  {
   "cell_type": "code",
   "execution_count": null,
   "metadata": {},
   "outputs": [],
   "source": [
    "\n",
    "    "
   ]
  },
  {
   "cell_type": "code",
   "execution_count": null,
   "metadata": {},
   "outputs": [],
   "source": []
  },
  {
   "cell_type": "markdown",
   "metadata": {},
   "source": [
    "# Animated (non-static) matplotlib plots\n",
    "\n",
    "Some basic ways of making animated plots in matplotlib:\n",
    "\n",
    "1. Using input fields, such as sliders and buttons. \n",
    "2. Continuously varying the output, such as having time dependence.\n"
   ]
  },
  {
   "cell_type": "code",
   "execution_count": null,
   "metadata": {},
   "outputs": [],
   "source": []
  },
  {
   "cell_type": "code",
   "execution_count": null,
   "metadata": {},
   "outputs": [],
   "source": []
  },
  {
   "cell_type": "markdown",
   "metadata": {},
   "source": [
    "# Pendulum plots\n",
    "\n",
    "We make a few interactive plots related to the dynamics of pendulums.  Let's start with the single-arm pendulum with friction.  This is described by the ODE:\n",
    "\n",
    "$$ \\theta'' + a\\theta' + b \\sin \\theta = 0$$\n",
    "\n",
    "provided $a \\geq 0$ and $b >0$. $a$ can be thought of roughly as the friction at the bearing, with $b$ roughly the mass of the arm. \n",
    "\n",
    "A picture of such a pendulum, including a sketch of how to work out the constants $a$ and $b$ precisely appears below.\n",
    "\n",
    "<img src=\"pendulum.png\" alt=\"Single pendulum example\" width=400 height=400>"
   ]
  },
  {
   "cell_type": "markdown",
   "metadata": {},
   "source": [
    "We convert the pendulum ODE into a first-order ODE.\n",
    "\n",
    "$$ \\pmatrix{\\theta \\cr \\theta'}' = \\pmatrix{\\theta' \\cr -a \\theta' - b \\sin \\theta}$$\n",
    "\n",
    "which we will simulate (numerically) via the **scipy.integrate** **odeint** command.\n",
    "\n",
    "We will put this all together into a simulation that plots the pairs $(\\theta, \\theta')$ over a time interval, using sliders to specify the initial conditions $(\\theta_0, \\theta'_0, a, b, \\Delta t)$. "
   ]
  },
  {
   "cell_type": "code",
   "execution_count": null,
   "metadata": {},
   "outputs": [],
   "source": []
  },
  {
   "cell_type": "code",
   "execution_count": null,
   "metadata": {},
   "outputs": [],
   "source": []
  },
  {
   "cell_type": "code",
   "execution_count": null,
   "metadata": {},
   "outputs": [],
   "source": []
  },
  {
   "cell_type": "markdown",
   "metadata": {},
   "source": [
    "## Double pendulum\n",
    "\n",
    "Let's consider simulating a more complicated dynamical system, the **double pendulum**.  This is a pendulum with an arm attached to an arm, i.e. it has two bearings and the second bearing (the joint between the first and second arm) is at the end of the first arm.\n",
    "\n",
    "<img src=\"doublepen.gif\" width=\"300\" height=\"300\" class=\"alignleft\"/> </div>\n",
    "\n",
    "The ODE describing this system is rather long -- making it difficult to transcribe onto a computer without making frequently typos.  We will use Sympy and the technique called *Lagrangian Mechanics* to generate the ODE.\n"
   ]
  },
  {
   "cell_type": "code",
   "execution_count": null,
   "metadata": {},
   "outputs": [],
   "source": []
  },
  {
   "cell_type": "code",
   "execution_count": null,
   "metadata": {},
   "outputs": [],
   "source": []
  },
  {
   "cell_type": "code",
   "execution_count": null,
   "metadata": {},
   "outputs": [],
   "source": []
  },
  {
   "cell_type": "code",
   "execution_count": null,
   "metadata": {},
   "outputs": [],
   "source": []
  },
  {
   "cell_type": "code",
   "execution_count": null,
   "metadata": {},
   "outputs": [],
   "source": []
  },
  {
   "cell_type": "code",
   "execution_count": null,
   "metadata": {},
   "outputs": [],
   "source": []
  },
  {
   "cell_type": "code",
   "execution_count": null,
   "metadata": {},
   "outputs": [],
   "source": []
  },
  {
   "cell_type": "code",
   "execution_count": null,
   "metadata": {},
   "outputs": [],
   "source": []
  },
  {
   "cell_type": "code",
   "execution_count": null,
   "metadata": {},
   "outputs": [],
   "source": []
  },
  {
   "cell_type": "code",
   "execution_count": null,
   "metadata": {},
   "outputs": [],
   "source": []
  }
 ],
 "metadata": {
  "kernelspec": {
   "display_name": "Python 3",
   "language": "python",
   "name": "python3"
  },
  "language_info": {
   "codemirror_mode": {
    "name": "ipython",
    "version": 3
   },
   "file_extension": ".py",
   "mimetype": "text/x-python",
   "name": "python",
   "nbconvert_exporter": "python",
   "pygments_lexer": "ipython3",
   "version": "3.5.2"
  }
 },
 "nbformat": 4,
 "nbformat_minor": 2
}
