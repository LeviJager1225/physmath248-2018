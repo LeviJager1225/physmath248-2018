{
 "cells": [
  {
   "cell_type": "markdown",
   "metadata": {},
   "source": [
    "## Lab 1: Skydiver\n",
    "\n",
    "Describes the velocity as a function of time $v(t)$ for \n",
    "\n",
    "A skydiver jumps from a plane at $h=2000\\mathrm{m}$. At $h_\\mathrm{p} = 300\\mathrm{m}$ the skydiver releases the parachute. How does the velocity evolve as a function of height?\n",
    "\n",
    "1. Calculate problem constant $$k = \\frac{1}{2} \\frac{C_\\mathrm{D} \\rho A}{m}$$  as introduced in class using the astropy units package.\n",
    "2. In addition to the differential equation $\\frac{dv}{dt}$ derived in class solve simultaneously the differential equation $\\frac{dh}{dt} = v$.\n",
    "2. Your plot should include a line for the analytically determined terminal velocity.\n",
    "3. From the terminal velocity, estimate an appropropriate time step for the integration.\n",
    "4. Perform a convergence study by doing a series of 3 to 4 runs with decreasing step size.\n",
    "\n",
    "Please remember the instructions how to approach a programming task:\n",
    "\n",
    "1. Sketch out the algorithm you want to use. This can involve some kind of flow-diagram and writing out the program in pseudo-programing language.\n",
    "2. Implement algorithm; while you write it add reasonable comments, short and relevant. Test each step to make sure you avoid accumulating errors that are harder to find later on.\n",
    "3. Run algorithm and generate results.\n",
    "4. Test the program carefully. What can you do to convince yourself that your algorithm is working correctly?"
   ]
  },
  {
   "cell_type": "code",
   "execution_count": null,
   "metadata": {},
   "outputs": [],
   "source": []
  }
 ],
 "metadata": {
  "kernelspec": {
   "display_name": "Python 3",
   "language": "python",
   "name": "python3"
  },
  "language_info": {
   "codemirror_mode": {
    "name": "ipython",
    "version": 3
   },
   "file_extension": ".py",
   "mimetype": "text/x-python",
   "name": "python",
   "nbconvert_exporter": "python",
   "pygments_lexer": "ipython3",
   "version": "3.5.2"
  }
 },
 "nbformat": 4,
 "nbformat_minor": 2
}
