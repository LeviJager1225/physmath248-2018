{
 "cells": [
  {
   "cell_type": "markdown",
   "metadata": {},
   "source": [
    "# Linear Transformation and Linear Algebra"
   ]
  },
  {
   "cell_type": "markdown",
   "metadata": {},
   "source": [
    "## Linear transformation\n",
    "\n",
    "1. Create a data set of points in 2D that constitute a square. Use the same techniques as those introduced in class for building the cube from points along the edges.\n",
    "2. Make a plot of the square and give points belonging to each side a different color.\n",
    "3. Apply the horizintal shear transformation with a shear parameter $m=1$. Plot the transformed point set.\n",
    "4. Apply the rotation  transformation with $\\Theta = 45\\deg$ in the counterclockwise direction. Plot the transformed point set."
   ]
  },
  {
   "cell_type": "markdown",
   "metadata": {},
   "source": [
    "## Gaussian elimination\n",
    "\n",
    "1. Create your own linear algebra module `linalg` that can be imported into your notebook (see Part.I unit 4). Add the `dot_prod` function from class to the module. Create a tester cell that demonstrates the function.\n",
    "2. Add a function that takes a matrix (as an array of arrays) and a vector which together represent a set of equations ($\\vec{u} = {\\bf A} \\cdot \\vec{v}$) as input. The function solves the equations, i.e. returns $\\vec{v}$. Use the Gaussian elemination technique. Following the steps from class (Part.III, unit 3).\n",
    "3. Your function should have some checks to prevent the user from misusing the function in the most obvious way. Think about and comment on other not so obvious ways in which your function could fail. "
   ]
  },
  {
   "cell_type": "code",
   "execution_count": null,
   "metadata": {
    "collapsed": true
   },
   "outputs": [],
   "source": [
    "def gausselim(A,u):\n",
    "    '''Gaussian elimination with backsubstution\n",
    "    \n",
    "    This function solves the equation u = A * v, where v, u vectors \n",
    "    of length N and A a NxN matrix.\n",
    "    \n",
    "    input: A, u\n",
    "    output solution vector v\n",
    "    '''\n",
    "    \n",
    "    your code here ....\n",
    "\n",
    "    return v"
   ]
  },
  {
   "cell_type": "markdown",
   "metadata": {},
   "source": [
    "Use the gaussian elimination function as well as a numpy method to solve the following system of equations:\n",
    "$$\\begin{eqnarray*}\n",
    " 3 v_1 +  v_2 + 7 v_3 &= 0 \\\\ \n",
    " 6 v_1 -2  v_2 +  v_3 &= 8 \\\\\n",
    " -5 v_1 + 1 v_2 + 3 v_3 &= 1\n",
    "\\end{eqnarray*}$$\n"
   ]
  },
  {
   "cell_type": "code",
   "execution_count": null,
   "metadata": {},
   "outputs": [],
   "source": []
  }
 ],
 "metadata": {
  "kernelspec": {
   "display_name": "Python 3",
   "language": "python",
   "name": "python3"
  },
  "language_info": {
   "codemirror_mode": {
    "name": "ipython",
    "version": 3
   },
   "file_extension": ".py",
   "mimetype": "text/x-python",
   "name": "python",
   "nbconvert_exporter": "python",
   "pygments_lexer": "ipython3",
   "version": "3.5.2"
  }
 },
 "nbformat": 4,
 "nbformat_minor": 2
}
