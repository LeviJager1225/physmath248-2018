{
 "cells": [
  {
   "cell_type": "markdown",
   "metadata": {},
   "source": [
    "# Ordinary differential equations\n",
    "\n",
    "Differential equations are often hard to solve on paper but in many cases become trivial on a computer. \n",
    "\n",
    "## Explicit solution: Euler step\n",
    "Take the simplest, first order ODE\n",
    "$$\n",
    "y^\\prime = f(y,x)\n",
    "$$\n",
    "where the right-hand side (RHS) is the function $f(y,x)$ that specifies the derivative $y^\\prime = \\frac{dy}{dx}$. We are looking for the function $y(x)$, but here not the algebraic expression but the numerical values. For a time dependent problem $x = t$. "
   ]
  },
  {
   "cell_type": "markdown",
   "metadata": {},
   "source": [
    "Take for example $f (y,x) = 2x$, then we know that $y(x) = x^2$. Let's pretend we do not know the answer, but the initial conditions $y(0) = 0$. How can we numerically calculate $y(x)$ for a series of discrete values $x_i$?"
   ]
  },
  {
   "cell_type": "markdown",
   "metadata": {},
   "source": [
    "The differential equation is\n",
    "\n",
    "$$\\frac{dy}{dx} = 2x $$ and we need to turn that into a difference equation:\n",
    "\n",
    "$$\\frac{y_\\mathrm{n+1} - y_\\mathrm{n}}{x_\\mathrm{n+1} - x_\\mathrm{n}} = 2 x_\\mathrm{n}$$\n",
    "\n",
    "which we solve for $y_\\mathrm{n+1}$:\n",
    "\n",
    "$$y_\\mathrm{n+1} = y_\\mathrm{n} + 2 h x_\\mathrm{n}$$ where $h= x_\\mathrm{n+1} - x_\\mathrm{n}$"
   ]
  },
  {
   "cell_type": "code",
   "execution_count": null,
   "metadata": {},
   "outputs": [],
   "source": [
    "y=[]; y.append(0)\n",
    "x=[]; x.append(0)\n",
    "rhs_f = lambda x: 2*x\n",
    "x_thing = x[0]; y_thing = y[0]\n",
    "h=1.; x_end = 4.\n",
    "while x_thing <= x_end+h:\n",
    "    y_thing += h * rhs_f(x_thing)\n",
    "    x_thing += h\n",
    "    print(x_thing,y_thing)\n",
    "    x.append(x_thing); y.append(y_thing)\n"
   ]
  },
  {
   "cell_type": "code",
   "execution_count": null,
   "metadata": {},
   "outputs": [],
   "source": [
    "%pylab nbagg\n",
    "plot(x,y,'o-',label='numeric, Euler')\n",
    "plot(x,array(x)**2,'--',label='analytic')\n",
    "legend();xlabel('$x$'),ylabel('$y(x)$')"
   ]
  },
  {
   "cell_type": "markdown",
   "metadata": {},
   "source": [
    "This is the simplest way of integrating an ODE, and it is called the _Euler step_. A simple multiplication of $\\Delta x$ with the RHS which represents the derivatiev of the sought function $y(x)$. "
   ]
  },
  {
   "cell_type": "markdown",
   "metadata": {},
   "source": [
    "### Solution using ODE solver library"
   ]
  },
  {
   "cell_type": "code",
   "execution_count": null,
   "metadata": {},
   "outputs": [],
   "source": [
    "from scipy import integrate"
   ]
  },
  {
   "cell_type": "code",
   "execution_count": null,
   "metadata": {},
   "outputs": [],
   "source": []
  },
  {
   "cell_type": "code",
   "execution_count": null,
   "metadata": {},
   "outputs": [],
   "source": [
    "figure(1)\n",
    "plot(x,yy,'h--',label='scipy.integrate.odeint')\n",
    "legend()"
   ]
  },
  {
   "cell_type": "markdown",
   "metadata": {},
   "source": [
    "## Skydiver problem: Falling body with drag\n",
    "\n",
    "A falling body - say a skydiver - will increase speed when she jumps off the plane because she is accelerated by the earth's gravity. However, the speed will not increase forever. In addition to the gravitational force the sky diver will feel the drag force due to air resistance.\n",
    "\n",
    "What is the terminal velocity of the sky diver? This will depend on the balance of two forces: the gravitational force and the drag force that describes the air resistance\n",
    "\n",
    "\n",
    "### Equation of motion\n",
    "The equation of motion for the velocity is $v = a t +v_0$ where $a$ is the acceration and $v_0$ the initial velocity. But this is of course just a special case of the more general case\n",
    "$$\\frac{d\\vec{p}}{dt} = \\sum \\vec{F}_i .$$\n",
    "where $\\vec{p}$ is the momentum and $\\vec{F}_i$ is one of several forces that may act, like gravitational force and friction.\n",
    "\n",
    "### Forces\n",
    "We will consider a 1D motion in the vertical direction, and therefore consider the scalar equations.\n",
    "\n",
    "#### Gravity\n",
    "\n",
    "$$F = - m g$$\n",
    "where $m$ is the mass of the body and $g$ is the magnitude of the gravitational acceleration.\n",
    "\n",
    "#### Air drag\n",
    "\n",
    "In order to obtain an idea of what a formula for the air drag could be we use dimensional analysis. This method is based on the principle that every physics equation must be dimensionally homogeneous, i.e. the units on each side of the equation must be the same. We are looking for a force, which has the unit \n",
    "$$ [F] = \\frac{ML}{T^2}$$\n",
    "where $M$, $L$ and $T$ stand for the mass, length and time unit. We then consider what the drag force could possibly depend on. This consideration is where the physics happens. We expect that the drag force will somehow depend on the following:\n",
    "\n",
    "- density $\\rho$ of medium through which object is moving, in this case air\n",
    "- velocity $v$\n",
    "- cross section of object $A$\n",
    "\n",
    "We are looking for an expression of the type\n",
    "$$F = C_D \\rho^a v^b A^c$$ \n",
    "where $C_D$ is a dimensionless coefficient and $a$, $b$ and $c$ are derived from the condition that unit of $F$ has to come out correctly. You can easily confirm that this is the case if $a=1$, $b=2$ and $c=1.$ Convention has it that we throw in another factor $\\frac{1}{2}$ and the  resulting expression for the drag force is \n",
    "\n",
    "$$F_D = \\frac{1}{2} C_D \\rho v^2 A.$$ \n",
    "\n",
    "### Drag coefficient\n",
    "\n",
    "A number of hydrodynamic processes contributed to the total drag of a an object. Which of these will dominate will depend on the flow regime. Flow regimes in hydrodynamics are characterized by dimensionless numbers. The relevant number in our case is the Reynolds number $$Re = \\frac{l v}{\\nu}$$\n",
    "where $l$ and $v$ are the characteristic length scale and the characteristic velocity and $\\nu$ is the kinematic viscosity. "
   ]
  },
  {
   "cell_type": "markdown",
   "metadata": {},
   "source": [
    "## Skydiver problem: Falling body with drag\n",
    "\n",
    "A falling body - say a skydiver - will increase speed when she jumps off the plane because she is accelerated by the earth's gravity. However, the speed will not increase forever. In addition to the gravitational force the sky diver will feel the drag force due to air resistance.\n",
    "\n",
    "What is the terminal velocity of the sky diver? This will depend on the balance of two forces: the gravitational force and the drag force that describes the air resistance\n",
    "\n",
    "\n",
    "### Equation of motion\n",
    "The equation of motion for the velocity is $v = a t +v_0$ where $a$ is the acceration and $v_0$ the initial velocity. But this is of course just a special case of the more general case\n",
    "$$\\frac{d\\vec{p}}{dt} = \\sum \\vec{F}_i .$$\n",
    "where $\\vec{p}$ is the momentum and $\\vec{F}_i$ is one of several forces that may act, like gravitational force and friction.\n",
    "\n",
    "### Forces\n",
    "We will consider a 1D motion in the vertical direction, and therefore consider the scalar equations.\n",
    "\n",
    "#### Gravity\n",
    "\n",
    "$$F = - m g$$\n",
    "where $m$ is the mass of the body and $g$ is the magnitude of the gravitational acceleration.\n",
    "\n",
    "#### Air drag\n",
    "\n",
    "In order to obtain an idea of what a formula for the air drag could be we use dimensional analysis. This method is based on the principle that every physics equation must be dimensionally homogeneous, i.e. the units on each side of the equation must be the same. We are looking for a force, which has the unit \n",
    "$$ [F] = \\frac{ML}{T^2}$$\n",
    "where $M$, $L$ and $T$ stand for the mass, length and time unit. We then consider what the drag force could possibly depend on. This consideration is where the physics happens. We expect that the drag force will somehow depend on the following:\n",
    "\n",
    "- density $\\rho$ of medium through which object is moving, in this case air\n",
    "- velocity $v$\n",
    "- cross section of object $A$\n",
    "\n",
    "We are looking for an expression of the type\n",
    "$$F = C_D \\rho^a v^b A^c$$ \n",
    "where $C_D$ is a dimensionless coefficient and $a$, $b$ and $c$ are derived from the condition that unit of $F$ has to come out correctly. You can easily confirm that this is the case if $a=1$, $b=2$ and $c=1.$ Convention has it that we throw in another factor $\\frac{1}{2}$ and the  resulting expression for the drag force is \n",
    "\n",
    "$$F_D = \\frac{1}{2} C_D \\rho v^2 A.$$ \n",
    "\n",
    "### Drag coefficient\n",
    "\n",
    "A number of hydrodynamic processes contributed to the total drag of a an object. Which of these will dominate will depend on the flow regime. Flow regimes in hydrodynamics are characterized by dimensionless numbers. The relevant number in our case is the Reynolds number $$Re = \\frac{l v}{\\nu}$$\n",
    "where $l$ and $v$ are the characteristic length scale and the characteristic velocity and $\\nu$ is the kinematic viscosity. For air $\\nu=1.5\\times10^{-5} \\mathrm{m^2/s}$. Our sky diver will certainly reach velocities of the order of $100\\mathrm{km/hr}$ and a characteristic length scale would be $1\\mathrm{m}$. Therefore:"
   ]
  },
  {
   "cell_type": "code",
   "execution_count": null,
   "metadata": {},
   "outputs": [],
   "source": [
    "import astropy.units as u\n",
    "\n"
   ]
  },
  {
   "cell_type": "code",
   "execution_count": null,
   "metadata": {},
   "outputs": [],
   "source": [
    "nu = 1.5e-5 * u.m**2/u.s          # in m^2/s\n",
    "\n",
    "form_str='Re = %7.3E'\n",
    "print(form_str%Re)"
   ]
  },
  {
   "cell_type": "markdown",
   "metadata": {},
   "source": [
    "This is a very high Reynolds number. For $Re > 2000$ the flow is usually turbulent. \n",
    "Experiments show how the drag coefficient depends on the $Re$ number, \n",
    "[see for example here](http://pages.mtu.edu/~fmorriso/DataCorrelationForSphereDrag2016.pdf) \n",
    "or any text book on fluid dynamics. We see that for the large $Re$ numbers of \n",
    "our situation we should adopt $ C_D \\approx 0.3$.\n",
    "\n",
    "### Equation of motion for sky diver\n",
    "\n",
    "\n",
    "$$ m \\frac{dv}{dt} = -mg + \\frac{1}{2} C_D \\rho v^2 A $$\n",
    "or, with $$k = \\frac{1}{2} \\frac{C_\\mathrm{D} \\rho A}{m}$$ we just have\n",
    "$$ \\frac{dv}{dt} = -g +  k v^2.$$"
   ]
  },
  {
   "cell_type": "markdown",
   "metadata": {},
   "source": [
    "In order to solve this differential equation on a compute we use the Euler step method. The most simple solution scheme would be the following: \n",
    "\n",
    "$$\\frac{v_\\mathrm{n+1} - v_\\mathrm{n}}{h} = -g + kv_\\mathrm{n}^2$$\n",
    "\n",
    "where the subscript $n$ indicates subsequents steps in time, and $h$ is the choosen time step length $\\Delta t$. Solving for $v_\\mathrm{n+1}$ yields:\n",
    "\n",
    "$$ v_\\mathrm{n+1} = v_\\mathrm{n} + h(kv_\\mathrm{n}^2 -g) $$\n",
    "\n",
    "Finally, we just need some appropriate initial conditions, such as $v_\\mathrm{0} = 0$.\n",
    "\n",
    "What we want to get is the function $v(t)$. How will it likely look like? Initially the velocity will increase as the graviational acceleration dominates. Ultimately the quadratic drag term in $v$ will become noticable. In fact, there is an equillibrium solution then the drag force equals the gravitational force. Equillibrium means that nothing changes, i.e. $$\\frac{dv}{dt}=0$$ \n",
    "\n",
    "In that case from the differential equation above we find that the terminal velocity is  $$v_\\mathrm{T} = \\sqrt{\\frac{g}{k}}$$"
   ]
  },
  {
   "cell_type": "markdown",
   "metadata": {},
   "source": [
    "#### Explicit solution"
   ]
  },
  {
   "cell_type": "code",
   "execution_count": 1,
   "metadata": {},
   "outputs": [
    {
     "name": "stdout",
     "output_type": "stream",
     "text": [
      "66.7423812472\n"
     ]
    }
   ],
   "source": [
    "k = 0.0022; g = 9.8 \n",
    "v_t = sqrt(g/k)\n",
    "print(v_t)"
   ]
  },
  {
   "cell_type": "code",
   "execution_count": null,
   "metadata": {},
   "outputs": [],
   "source": [
    "#estimate time step\n",
    "\n",
    "print(dt)"
   ]
  },
  {
   "cell_type": "code",
   "execution_count": null,
   "metadata": {},
   "outputs": [],
   "source": [
    "def rhs_sdiver(v,dt):\n",
    "    'Evaluate RHS for skydiver problem, advance one time step'\n",
    "    ...\n",
    "    return v"
   ]
  },
  {
   "cell_type": "code",
   "execution_count": null,
   "metadata": {},
   "outputs": [],
   "source": []
  },
  {
   "cell_type": "code",
   "execution_count": null,
   "metadata": {},
   "outputs": [],
   "source": []
  },
  {
   "cell_type": "code",
   "execution_count": null,
   "metadata": {},
   "outputs": [],
   "source": [
    "tt=[]\n",
    "vv=[]\n",
    "tmax=3*1000./v_t\n",
    "t=0; v=0"
   ]
  },
  {
   "cell_type": "code",
   "execution_count": null,
   "metadata": {},
   "outputs": [],
   "source": [
    "while t < tmax:\n",
    "    ...\n",
    "    ...\n",
    "    tt.append(t)\n",
    "    vv.append(v)"
   ]
  },
  {
   "cell_type": "code",
   "execution_count": null,
   "metadata": {},
   "outputs": [],
   "source": [
    "figure(2)\n",
    "plot(array(tt),array(vv),'o--')\n",
    "xlabel('time / s')\n",
    "ylabel('v / m/s')\n"
   ]
  },
  {
   "cell_type": "markdown",
   "metadata": {},
   "source": [
    "## Implicit ODE with Newton-Raphson\n",
    "The Newton-Raphson method can be used as well for an alternative\n",
    "approach to integrating ODEs, such as the sky diver\n",
    "problem. So far we have used an _explicit_ forward integration which\n",
    "involves evaluating the RHS of the ODE using the know velocity\n",
    "$ v_n $ at the present time to get the value of the\n",
    "velocity at the next time step $ n+1 $. In cases where\n",
    "we are interested in the longer-term behaviour, and where we are\n",
    "required to take larger time steps this may not work very well. In\n",
    "that case we want to evaluate the RHS for $ v(n+1) $, and we have\n",
    "an _implicit_ solution scheme. Especially for large coupled systems of\n",
    "ODEs implicit schemes often provide the numerical stability to find a\n",
    "solution at all. The implicit solution involves an iterative approach,\n",
    "and we can use again the Newton-Raphson method. The difference of an implicit method is to evalute the RHS not at the know time, e.g. $v_\\mathrm{n}$ but instead at the not yet known time at step $\\mathrm{n+1}$. Thus, instead of solving\n",
    "\n",
    "$$\\frac{v_\\mathrm{n+1} - v_\\mathrm{n}}{h} = -g + kv_\\mathrm{n}^2$$\n",
    "\n",
    "we solve\n",
    "\n",
    "\n",
    "$$\\frac{v_\\mathrm{n+1} - v_\\mathrm{n}}{h} = -g + kv_\\mathrm{n+1}^2$$\n",
    "\n",
    "We can not solve for $v_\\mathrm{n+1}$ analytically anymore and therefore have to solve numerically. We can reshape this as a root-finding problem. With \n",
    "$$G(v_\\mathrm{n+1}) = v_\\mathrm{n+1} - v_\\mathrm{n} + h(g - kv_\\mathrm{n+1}^2)$$\n",
    "the task is to find the root of $G(v_\\mathrm{n+1})$, which can be done using Newton-Raphson.\n",
    "\n",
    "As you can see the basic strategy is to put everything on one side,\n",
    "give it a name $ G(v_{n+1})$, set this function to zero and\n",
    "solve it by Newton-Raphson. The beauty is that this idea can be easily\n",
    "expanded to systems of ODEs with many variables. In physics this \n",
    "method is for example used for large reaction rate networks involving\n",
    "thousands of isotopes, solving radiation transfer problems or computing the evolution of stars in spherical symmetry according to the conservation laws of mass, momentum and energy.\n"
   ]
  },
  {
   "cell_type": "code",
   "execution_count": null,
   "metadata": {},
   "outputs": [],
   "source": [
    "# and the derivative\n",
    "def derivs(f,x,h):\n",
    "    '''\n",
    "    Return 1st order numerical derivative\n",
    "    \n",
    "    f : function\n",
    "    x : x value to evaluate derivative\n",
    "    h : interval in x for derivative\n",
    "    '''\n",
    "    \n",
    "    ...\n",
    "    return dfdx\n",
    " "
   ]
  },
  {
   "cell_type": "code",
   "execution_count": null,
   "metadata": {},
   "outputs": [],
   "source": [
    "# setup NR difference equation for one time step to be iterated over \n",
    "# by finding the root at each iteration and updating the \n",
    "v=[]\n",
    "t=[]\n",
    "vn = 0 # velocity at t=0\n",
    "tt = 0\n",
    "v.append(vn)\n",
    "t.append(tt)\n",
    "dt=1.5"
   ]
  },
  {
   "cell_type": "code",
   "execution_count": null,
   "metadata": {},
   "outputs": [],
   "source": [
    "G = lambda v_np1: -v_np1 + vn + dt*(-g + k*v_np1**2)"
   ]
  },
  {
   "cell_type": "code",
   "execution_count": null,
   "metadata": {},
   "outputs": [],
   "source": [
    "# check how G looks like, what are we trying to find the root of?\n",
    "close(4)\n",
    "figure(4)\n",
    "x=linspace(-60,5)\n",
    "plot(x,G(x),':')\n",
    "axhline(color='k',linestyle='dashed')\n",
    "title('$G(v_\\mathrm{n+1})$')\n",
    "xlabel('$v_\\mathrm{n+1}$')\n",
    "ylabel('$G$')"
   ]
  },
  {
   "cell_type": "code",
   "execution_count": null,
   "metadata": {},
   "outputs": [],
   "source": [
    "xx=0; h=0.01   # we start with an estimate for v_n+1 = 0\n",
    "plot(xx,G(xx),'h')"
   ]
  },
  {
   "cell_type": "code",
   "execution_count": null,
   "metadata": {},
   "outputs": [],
   "source": [
    "# one NR iteration, repeat until satisfactory solution is found\n",
    "# x is the estimate for v_n+1 and accepted as solution if \n",
    "# G(xx) < eps1 and delta < eps2, where eps1 and eps2 are \n",
    "# suitably small limits\n",
    "x = xx\n",
    "delta = -G(x)/derivs(G,x,h)\n",
    "xx = x + delta\n",
    "print(xx,G(xx),delta)\n",
    "plot(xx,G(xx),'h')"
   ]
  },
  {
   "cell_type": "code",
   "execution_count": null,
   "metadata": {},
   "outputs": [],
   "source": [
    "# accept solution and advance time\n",
    "v.append(xx)\n",
    "tt += dt\n",
    "t.append(tt)\n",
    "# new solution becomes old solution\n",
    "vn = xx\n",
    "# start new NR iterations"
   ]
  },
  {
   "cell_type": "code",
   "execution_count": null,
   "metadata": {},
   "outputs": [],
   "source": [
    "# add implicit soln to fig 2 above\n",
    "figure(2)\n",
    "plot(t,v,'.-',label='implicit')\n",
    "legend()"
   ]
  },
  {
   "cell_type": "code",
   "execution_count": null,
   "metadata": {},
   "outputs": [],
   "source": [
    "# initialize again and put in loop\n",
    "while tt < tmax:\n",
    "    delta =0.5\n",
    "    while delta > 0.001:\n",
    "        x = xx\n",
    "        delta = -G(x)/derivs(G,x,h)\n",
    "        xx = x + delta\n",
    "        print(xx,G(xx))\n",
    "    v.append(xx)\n",
    "    tt += dt\n",
    "    t.append(tt)\n",
    "    vn = xx"
   ]
  },
  {
   "cell_type": "markdown",
   "metadata": {},
   "source": [
    "## Implicit solution for systems of ODEs\n",
    "**Advanced topic, not for assignments or final exam**\n",
    "\n",
    "If we do want to know the height as well as the position of the sky diver then we have a coupled system of ODEs, in discretized, inmplicit form:\n",
    "\n",
    "$$ v_{n+1} = v_{n} +dt( -g +  k v_{n+1}^2)\\\\\n",
    "h_{n+1} = h_{n} +dt v_{n+1}$$\n",
    "\n",
    "and in terms of the function we have to find the root for\n",
    "\n",
    "$$ G_1(v_{n+1}) = - v_{n+1} + v_{n} +dt( -g +  k v_{n+1}^2)\\\\\n",
    "G_2(h_{n+1}) = -h_{n+1} + h_{n} +dt v_{n+1}$$\n",
    " \n",
    "and with $Y_1 = v_{n+1}$ and $Y_2 = h_{n+1}$ and $c_1 = v_{n} - dt\\, g$ and $c_2 = h_{n}$\n",
    "\n",
    "$$ G_1(Y_1) = - Y_1 + c_1 + dt\\,k\\, Y_1^2\\\\\n",
    "G_2(Y_2) = -Y_2 + c_2 + dt\\, Y_1 $$\n",
    "\n",
    "or \n",
    "\n",
    "$$ \\vec{G}(\\vec{Y}) = \\matrix{F} \\cdot \\vec{Y} + \\vec{c}\\\\\n",
    "\\matrix{F} = \\pmatrix{ (-1 + dt\\,k) & 0  \\\\ \n",
    "                       dt & -1  }\n",
    "$$ \n",
    "\n",
    "Now the Newton-Raphson for finding the root of $\\vec{G}(\\vec{Y})=0$ would look like this\n",
    "\n",
    "$$\n",
    "\\vec{G}'(\\vec{Y}) \\, \\vec{\\delta} = -\\vec{G}(\\vec{Y}) \n",
    "$$\n",
    "\n",
    "where $\\vec{Y}$ is to start with the estimate of the solution for the next time step, and $\\vec{G}'(\\vec{Y})$ is the Jacoby matrix. It has on our case the following elements:\n",
    "\n",
    "$$\n",
    "\\vec{G}'(\\vec{Y}) = \\pmatrix{ \\frac{\\partial G_1}{\\partial Y_1} & \\frac{\\partial G_1}{\\partial Y_2}  \\\\ \n",
    "                     \\frac{\\partial G_2}{\\partial Y_1} & \\frac{\\partial G_2}{\\partial Y_2}  } $$\n",
    "\n",
    "and so, for each time step we have to do a number of Newton-Raphson iterations, each of which involves solving the linear algebra problem\n",
    "\n",
    "$$\n",
    "\\vec{G}'(\\vec{Y}) \\cdot \\vec{\\delta} = -\\vec{G}(\\vec{Y}) \n",
    "$$\n",
    "\n",
    "which we can solve, i.e. find $\\vec{\\delta}$, using Gaussian elimination.\n",
    "\n",
    "More generally, for a system with $N$ ODEs we would have $N$ variables:\n",
    "\n",
    "$$\\vec{Y} =\\left(\\begin{array}{c}\n",
    "Y_1 \\\\\n",
    "Y_2 \\\\\n",
    "\\vdots \\\\\n",
    "Y_i \\\\\n",
    "\\vdots \\\\\n",
    "Y_N \\\\\n",
    "\\end{array}\\right)\n",
    "$$\n",
    "\n",
    "The Jacoby matrix is \n",
    "$$\n",
    "\\vec{G}'(\\vec{Y}) =\\frac{\\partial \\vec{G}(\\vec{Y})}{\\partial \\vec{Y}}\n",
    "=\\left(\\begin{array}{c}\n",
    "\\vec{G}_1'(\\vec{Y}) \\\\\n",
    "\\vec{G}_2'(\\vec{Y}) \\\\\n",
    "\\vdots \\\\\n",
    "\\vec{G}_i'(\\vec{Y}) \\\\\n",
    "\\vdots \\\\\n",
    "\\vec{G}_N'(\\vec{Y})\n",
    "\\end{array}\\right) ,\n",
    "$$\n",
    "and contains the row elements\n",
    "$$\n",
    "  \\frac{\\partial G_\\mathrm{i}(\\vec{Y}) }  {\\partial \\vec{Y}}=\n",
    "  \\vec{G}_i'(\\vec{Y})=\\left( \\frac{\\partial G_i}{\\partial Y_{1}},\n",
    "    \\frac{\\partial G_i}{\\partial Y_{2}},\\dots,\n",
    "      \\frac{\\partial G_i}{\\partial Y_{i}},\\dots,\n",
    "      \\frac{\\partial G_i}{\\partial Y_{N}}\\right) .\n",
    "$$\n",
    "which defines for each iteration in each time step a linear algebra problem with $N$ variables.\n",
    "\n",
    "In many real problems the Jacoby matrix may be _sparse_ which means it is only partially populated and lots of elements are zero. In that case special numerical solution techniques are used, e.g. _sparse solvers_"
   ]
  },
  {
   "cell_type": "code",
   "execution_count": null,
   "metadata": {},
   "outputs": [],
   "source": []
  }
 ],
 "metadata": {
  "kernelspec": {
   "display_name": "Python 3",
   "language": "python",
   "name": "python3"
  },
  "language_info": {
   "codemirror_mode": {
    "name": "ipython",
    "version": 3
   },
   "file_extension": ".py",
   "mimetype": "text/x-python",
   "name": "python",
   "nbconvert_exporter": "python",
   "pygments_lexer": "ipython3",
   "version": "3.5.2"
  }
 },
 "nbformat": 4,
 "nbformat_minor": 2
}
