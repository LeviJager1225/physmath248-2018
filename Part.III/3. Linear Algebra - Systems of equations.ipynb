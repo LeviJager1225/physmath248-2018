{
 "cells": [
  {
   "cell_type": "markdown",
   "metadata": {},
   "source": [
    "# Linear Algebra: Systems of equations\n",
    "\n",
    "* Many problems require finding solutions to systems of linear equations.\n",
    "* Example problem: a circuit of resistors.\n",
    "* Other examples include solving coupled ODEs with multiple variables, such as the skydiver problem with side wind, or a couple system of nuclear or chemical reactions, a so-called network.\n",
    "* We will solve linear systems of equations via Gaussian elimination."
   ]
  },
  {
   "cell_type": "markdown",
   "metadata": {},
   "source": [
    "## Circuit of resistors\n",
    "### The problem\n",
    "A circuit of resistors, all with the same resistance, connects ground with a power rail at the voltage $V_\\mathrm{Rail}$ as shown in this diagram: ![Resistor](../images/ResistorCircuit.jpg)\n",
    "\n",
    "A common problem in physics may involve that we  want to know the voltages at each of the junctions, $V_1, V_2, \\dots$ when $V_\\mathrm{Rail}$ is given and all resistors have the same  resistance $R$.\n",
    "\n",
    "The physics of this problem involves two aspects:\n",
    "1. Kirchhoff current law (a conservation law): The sum of all currents at any junction points must be zero.\n",
    "2. Ohm's law: The relation between current $I$, voltage $V$ and resistance is $$R = \\frac{V}{I}$$\n",
    "\n",
    "These fundamental electricitiy problems can be best understood in terms of the water analogy. \n",
    "\n",
    "### Set up equations\n",
    "* The current between two junctions is given by the voltage difference divided by the resistance (Ohm's law).\n",
    "* For each junction the sum of the currents into (or out of) the junction must be zero, i.e. in the voltage differences must contain the voltage at the junction with the same sign \n",
    "* Since the resistance is the same for all resistors it cancels and I we can ommit it right from the beginning. \n",
    "* $V_\\mathrm{Rail} = 5 \\mathrm{V}$\n",
    "\n",
    "The sum of the voltage differences at each junction is as follows:"
   ]
  },
  {
   "cell_type": "markdown",
   "metadata": {},
   "source": [
    "- v3: $(V_3 - V_4) + (V_3 -5) + (V_3 - V_1) = 0$\n",
    "- v2: $(V_2 - V_4) + (V_2 - 0) + (V_2 - V_1) = 0$\n",
    "- v1: $(V_1 - V_3) + (V_1 - 0) + (V_1 - V_2) + (V_1 - V_4) = 0$\n",
    "- v4: $(V_4 - 5) + (V_4 - V_3) + (V_4 - V_2) + (V_4 - V_1) = 0$"
   ]
  },
  {
   "cell_type": "markdown",
   "metadata": {},
   "source": [
    "You will need to simplify the equations in the four variables $V_1, V_2, V_3$ and $V_4$ and then solve the linear system of equations, which you are asked to do in Assignment 3.\n",
    "\n",
    "### Another example\n",
    "More generally you will end up with a coupled system of linear equations like this:\n",
    "\n",
    "$$\\begin{eqnarray*}\n",
    " 2 v_1 + 2 v_2 + 3 v_3 &= 1 \\\\ \n",
    " 4 v_1 + 5 v_2 + 5 v_3 &= 4 \\\\\n",
    " v_1 + 2 v_2 + v_3 &= 2\n",
    "\\end{eqnarray*}$$\n",
    "\n",
    "In this case you have three equations, three variables - this is solvable (unless the equations are not independent).  "
   ]
  },
  {
   "cell_type": "markdown",
   "metadata": {},
   "source": [
    "## Linear Algebra\n",
    "\n",
    "### Resources\n",
    "\n",
    "* Linear Algebra:\n",
    "    * Chapter 6 in [Newman: Computational Physics _with Python_](http://www-personal.umich.edu/~mejn/computational-physics)\n",
    "    * many resources on the internet, e.g. [Linear Algebra Primer](https://plot.ly/python/linear-algebra/)\n",
    "* [Array creation in Python](http://docs.scipy.org/doc/numpy-1.10.1/user/basics.creation.html)\n",
    "* more Python programming with arrays for example in Chapter 5 in [Langtangen: A Primer on Scientific Programming with Python](http://voyager.library.uvic.ca/vwebv/holdingsInfo?searchId=4972&recCount=25&recPointer=13&bibId=2865846) (available as ebook from the UVic library)\n",
    "\n",
    "\n",
    "### Review of some basics\n",
    "Product of arrays and vectors:"
   ]
  },
  {
   "cell_type": "code",
   "execution_count": 1,
   "metadata": {},
   "outputs": [
    {
     "data": {
      "text/plain": [
       "[1, 2, 3, 4, 5, 6]"
      ]
     },
     "execution_count": 1,
     "metadata": {},
     "output_type": "execute_result"
    }
   ],
   "source": [
    "a = [ 1, 2, 3] \n",
    "b = [4, 5, 6]\n",
    "a+b"
   ]
  },
  {
   "cell_type": "code",
   "execution_count": 2,
   "metadata": {},
   "outputs": [
    {
     "data": {
      "text/plain": [
       "array([ 4, 10, 18])"
      ]
     },
     "execution_count": 2,
     "metadata": {},
     "output_type": "execute_result"
    }
   ],
   "source": [
    "import numpy as np\n",
    "u = np.array(a)\n",
    "v = np.array(b)\n",
    "u*v"
   ]
  },
  {
   "cell_type": "markdown",
   "metadata": {},
   "source": [
    "This is an element-wise operation and the result is again an error. This is not any of the vector operations that we are familiar. "
   ]
  },
  {
   "cell_type": "code",
   "execution_count": 3,
   "metadata": {},
   "outputs": [
    {
     "data": {
      "text/plain": [
       "32"
      ]
     },
     "execution_count": 3,
     "metadata": {},
     "output_type": "execute_result"
    }
   ],
   "source": [
    "def dot_prod(u,v):\n",
    "    '''\n",
    "    vector product\n",
    "    \n",
    "    input: two vectors of equal lenght\n",
    "    output: scalar \n",
    "        \n",
    "    '''\n",
    "    if len(u) is not len(v): \n",
    "        print(\"Error: vectors do not have same lenght.\")\n",
    "    uv_prod = 0\n",
    "    for i in range(len(u)):\n",
    "        uv_prod += u[i]*v[i]\n",
    "    return uv_prod\n",
    "\n",
    "dot_prod(u,v)"
   ]
  },
  {
   "cell_type": "markdown",
   "metadata": {},
   "source": [
    "The dot product is also provided by numpy:"
   ]
  },
  {
   "cell_type": "code",
   "execution_count": 4,
   "metadata": {},
   "outputs": [
    {
     "data": {
      "text/plain": [
       "32"
      ]
     },
     "execution_count": 4,
     "metadata": {},
     "output_type": "execute_result"
    }
   ],
   "source": [
    "import numpy as np\n",
    "np.dot(u,v)"
   ]
  },
  {
   "cell_type": "markdown",
   "metadata": {},
   "source": [
    "### Gaussian elimination\n",
    "\n",
    "The above system of equations can be written as  $\\vec{u} = \\matrix{A} \\cdot \\vec{v}$ with \n",
    "\n",
    "$$\n",
    "\\matrix{A} = \\pmatrix{ 2 & 2 & 3 \\\\ \n",
    "                       4 & 5 & 5 \\\\\n",
    "                       1 & 2 & 1 }\n",
    "$$\n",
    "\n",
    "and $$\\vec{u} = \\pmatrix{1\\\\4\\\\2}.$$ The vector $\\vec{v}$ is the desired solution to the coupled system of linear equations given above. [Gaussian elimination](https://en.wikipedia.org/wiki/Gaussian_elimination) is a systematic method to accomplish this.\n",
    "\n",
    "Recall the important notion from linear algebra that the solution will not change if\n",
    "* we multiply an equation by any number, or if\n",
    "* we add and substract equations from each other. \n",
    "\n",
    "With this a scheme that finds numerically $vec{v}$ by using these rules looks like this:\n",
    "\n",
    "1. divide 1$^\\mathrm{st}$ equation by $a_{11} (= 2)$:\n",
    "$$\\begin{eqnarray*}\n",
    " v_1 + v_2 + \\frac{3}{2} v_3 &= \\frac{1}{2} \\\\ \n",
    " 4 v_1 + 5 v_2 + 5 v_3 &= 4 \\\\\n",
    " v_1 + 2 v_2 +  v_3 &= 2\n",
    "\\end{eqnarray*}$$\n",
    "2. substract $a_{21} (= 4)$ times 1$^\\mathrm{st}$ equation from 2$^\\mathrm{nd}$ equation:\n",
    "$$\\begin{eqnarray*}\n",
    " v_1 + 1 v_2 + \\frac{3}{2} v_3 &= \\frac{1}{2} \\\\ \n",
    "                   1 v_2 - 1 v_3 &= 2 \\\\\n",
    " v_1 + 2 v_2 + 1 v_3 &= 2\n",
    "\\end{eqnarray*}$$\n",
    "3. substract $a_{31} (= 1)$ times 1$^\\mathrm{st}$ equation from 3$^\\mathrm{rd}$ equation:\n",
    "$$\\begin{eqnarray*}\n",
    " v_1 + v_2 + \\frac{3}{2} v_3 &= \\frac{1}{2} \\\\ \n",
    "       v_2 -             v_3 &= 2 \\\\\n",
    "       v_2 - \\frac{1}{2} v_3 &= \\frac{3}{2}\n",
    "\\end{eqnarray*}$$\n",
    "the result is that the first column disappeared in all but the first row\n",
    "4. repeat for remaining set of equations excluding first row\n",
    "$$\\begin{eqnarray*}\n",
    " v_1 + v_2 + \\frac{3}{2} v_3 &= \\frac{1}{2} \\\\ \n",
    "       v_2 -             v_3 &= 2 \\\\\n",
    "             \\frac{1}{2} v_3 &= -\\frac{1}{2}\n",
    "\\end{eqnarray*}$$\n",
    "5. repeat until entire set of equations is in triangular form and last equation has only one variable\n",
    "6. backsubstitution: solve last equation, substitute into last-but-one, solve, substitute etc.\n",
    "\n",
    "The solution should be $$\\vec{v} = \\pmatrix{1 \\\\ 1 \\\\ -1 }$$ \n",
    "\n",
    "Let's see how this can be implemented:"
   ]
  },
  {
   "cell_type": "code",
   "execution_count": 78,
   "metadata": {},
   "outputs": [
    {
     "name": "stdout",
     "output_type": "stream",
     "text": [
      "[[2 2 3]\n",
      " [4 5 5]\n",
      " [1 2 1]] [1 4 2]\n"
     ]
    }
   ],
   "source": [
    "# reset A\n",
    "ar1=array([2,2,3])\n",
    "ar2=array([4,5,5])\n",
    "ar3=array([1,2,1])\n",
    "A=array([ar1,ar2,ar3])\n",
    "u = array([1,4,2])\n",
    "print(A,u)"
   ]
  },
  {
   "cell_type": "markdown",
   "metadata": {},
   "source": [
    "I need to apply the same operation to the right-hand side, i.e. $\\vec{u}$. The easiest way to do this is to add $\\vec{u}$ as an additional column to my working copy `AA` of the matrix `A`. I can use numpy `vstack` for that again, but add to `A.T` instead of `A`, and then take the transpose again:"
   ]
  },
  {
   "cell_type": "code",
   "execution_count": 79,
   "metadata": {},
   "outputs": [
    {
     "name": "stdout",
     "output_type": "stream",
     "text": [
      "[[2 2 3 1]\n",
      " [4 5 5 4]\n",
      " [1 2 1 2]]\n"
     ]
    }
   ],
   "source": [
    "AA = vstack((A.T,u)).T      # vstack is a numpy function!\n",
    "print(AA)"
   ]
  },
  {
   "cell_type": "markdown",
   "metadata": {},
   "source": [
    "I will start by performing the first step by hand. That will give me some ideas how to compactify and generalize the algorithm into a routine.\n",
    "\n",
    "1. divide 1$^\\mathrm{st}$ equation by $a_{11} (= 2)$:"
   ]
  },
  {
   "cell_type": "code",
   "execution_count": 62,
   "metadata": {},
   "outputs": [],
   "source": [
    "# I will be working with rows:\n",
    "i=0\n",
    "AA[i] = AA[i]/AA[i,0]"
   ]
  },
  {
   "cell_type": "code",
   "execution_count": 63,
   "metadata": {},
   "outputs": [
    {
     "data": {
      "text/plain": [
       "array([[1, 1, 1, 0],\n",
       "       [4, 5, 5, 4],\n",
       "       [1, 2, 1, 2]])"
      ]
     },
     "execution_count": 63,
     "metadata": {},
     "output_type": "execute_result"
    }
   ],
   "source": [
    "AA"
   ]
  },
  {
   "cell_type": "markdown",
   "metadata": {},
   "source": [
    "Here we can see a problem. The $3^\\mathrm{rd}$ element in the first row should be $1.5$ and the last should be $0.5$. The matrix `AA` has data type`dtype('int64')`. It needs to be a float. I must check for this situation and change the dtype to float. "
   ]
  },
  {
   "cell_type": "code",
   "execution_count": 80,
   "metadata": {},
   "outputs": [
    {
     "name": "stdout",
     "output_type": "stream",
     "text": [
      "[[ 2.  2.  3.  1.]\n",
      " [ 4.  5.  5.  4.]\n",
      " [ 1.  2.  1.  2.]]\n"
     ]
    }
   ],
   "source": [
    "if not 'float' in str(AA.dtype): # there are different types of floats\n",
    "    AA=AA.astype(float) \n",
    "    # and integer data types, e.g. int32, int64\n",
    "    # and this way I am checking in the most general way\n",
    "    # I will also not overwrite A but create a new working array with the \n",
    "    # required float data type\n",
    "print(AA)"
   ]
  },
  {
   "cell_type": "code",
   "execution_count": 81,
   "metadata": {
    "collapsed": true
   },
   "outputs": [],
   "source": [
    "#  now try again\n",
    "i=0\n",
    "AA[i] = AA[i]/AA[i,0]"
   ]
  },
  {
   "cell_type": "code",
   "execution_count": 82,
   "metadata": {},
   "outputs": [
    {
     "data": {
      "text/plain": [
       "array([[ 1. ,  1. ,  1.5,  0.5],\n",
       "       [ 4. ,  5. ,  5. ,  4. ],\n",
       "       [ 1. ,  2. ,  1. ,  2. ]])"
      ]
     },
     "execution_count": 82,
     "metadata": {},
     "output_type": "execute_result"
    }
   ],
   "source": [
    "AA"
   ]
  },
  {
   "cell_type": "code",
   "execution_count": 83,
   "metadata": {},
   "outputs": [
    {
     "name": "stdout",
     "output_type": "stream",
     "text": [
      "0\n",
      "1\n",
      "2\n"
     ]
    }
   ],
   "source": [
    "# This loop allows me to perform step 2 and 3: \n",
    "i=0\n",
    "for j in range(i,len(A)): print(j)"
   ]
  },
  {
   "cell_type": "code",
   "execution_count": 84,
   "metadata": {},
   "outputs": [
    {
     "name": "stdout",
     "output_type": "stream",
     "text": [
      "0 1\n",
      "[ 0.  1. -1.  2.]\n",
      "0 2\n",
      "[ 0.   1.  -0.5  1.5]\n"
     ]
    }
   ],
   "source": [
    "i=0\n",
    "for j in range(i+1,len(AA)):\n",
    "    print (i,j)\n",
    "    AA[j] -= AA[j,0]*AA[i]\n",
    "    print(AA[j])"
   ]
  },
  {
   "cell_type": "code",
   "execution_count": 85,
   "metadata": {},
   "outputs": [
    {
     "data": {
      "text/plain": [
       "array([[ 1. ,  1. ,  1.5,  0.5],\n",
       "       [ 0. ,  1. , -1. ,  2. ],\n",
       "       [ 0. ,  1. , -0.5,  1.5]])"
      ]
     },
     "execution_count": 85,
     "metadata": {},
     "output_type": "execute_result"
    }
   ],
   "source": [
    "AA"
   ]
  },
  {
   "cell_type": "markdown",
   "metadata": {},
   "source": [
    "Now, I will repeat this with `i=1` [I discover that of course the second index in `AA[j,0]` needs to be updated as well"
   ]
  },
  {
   "cell_type": "code",
   "execution_count": 87,
   "metadata": {},
   "outputs": [],
   "source": [
    "i=1\n",
    "AA[i] = AA[i]/AA[i,i]\n",
    "for j in range(i+1,len(AA)):\n",
    "    print (i,j)\n",
    "    AA[j] -= AA[j,i]*AA[i]\n",
    "    print(AA[j])"
   ]
  },
  {
   "cell_type": "code",
   "execution_count": 88,
   "metadata": {},
   "outputs": [
    {
     "data": {
      "text/plain": [
       "array([[ 1. ,  1. ,  1.5,  0.5],\n",
       "       [ 0. ,  1. , -1. ,  2. ],\n",
       "       [ 0. ,  0. ,  1. , -1. ]])"
      ]
     },
     "execution_count": 88,
     "metadata": {},
     "output_type": "execute_result"
    }
   ],
   "source": [
    "# check that AA is still what they should be, if not \n",
    "# reset by going back to the cell:\n",
    "AA"
   ]
  },
  {
   "cell_type": "markdown",
   "metadata": {},
   "source": [
    "Executing again with `i=2` gives the desired diagonal form."
   ]
  },
  {
   "cell_type": "markdown",
   "metadata": {},
   "source": [
    "Now we just need to implement the back-substitution"
   ]
  },
  {
   "cell_type": "code",
   "execution_count": 89,
   "metadata": {},
   "outputs": [],
   "source": [
    "BB=copy(AA)\n",
    "m  = len(A)-1     # highest row/col index (we do only square matrices)\n",
    "v  = zeros(m+1,float) \n",
    "u  = BB.T[-1]       # extract RHS\n",
    "AA = delete(BB,m+1,1) # recover diagonalized coefficient matrix  "
   ]
  },
  {
   "cell_type": "code",
   "execution_count": 75,
   "metadata": {},
   "outputs": [],
   "source": [
    "v[m] = u[m]"
   ]
  },
  {
   "cell_type": "code",
   "execution_count": 76,
   "metadata": {
    "collapsed": true
   },
   "outputs": [],
   "source": [
    "v[m-1] = u[m-1] - v[m]*AA[m-1,m]"
   ]
  },
  {
   "cell_type": "code",
   "execution_count": 46,
   "metadata": {},
   "outputs": [
    {
     "data": {
      "text/plain": [
       "array([ 1.,  1., -1.])"
      ]
     },
     "execution_count": 46,
     "metadata": {},
     "output_type": "execute_result"
    }
   ],
   "source": [
    "v"
   ]
  },
  {
   "cell_type": "code",
   "execution_count": 44,
   "metadata": {},
   "outputs": [],
   "source": [
    "v[m-2] = u[m-2] - v[m]*AA[m-2,m] - v[m-1]*AA[m-2,m-1]"
   ]
  },
  {
   "cell_type": "markdown",
   "metadata": {},
   "source": [
    "This can be made into a loop. However, I realize that this can be generalized in the following way. If we go backwards and initialize `v` as `zeros()` then I may just always subtract from the u component the dot product of `v` and the respective row of `AA`:"
   ]
  },
  {
   "cell_type": "code",
   "execution_count": 45,
   "metadata": {},
   "outputs": [
    {
     "name": "stdout",
     "output_type": "stream",
     "text": [
      "2\n",
      "1\n",
      "0\n"
     ]
    }
   ],
   "source": [
    "for j in range(m,-1,-1): print(j)"
   ]
  },
  {
   "cell_type": "code",
   "execution_count": 46,
   "metadata": {},
   "outputs": [
    {
     "data": {
      "text/plain": [
       "(array([[ 1. ,  1. ,  1.5],\n",
       "        [ 0. ,  1. , -1. ],\n",
       "        [ 0. ,  0. ,  1. ]]), array([ 0.5,  2. , -1. ]))"
      ]
     },
     "execution_count": 46,
     "metadata": {},
     "output_type": "execute_result"
    }
   ],
   "source": [
    "# reset AA and u:\n",
    "AA,u"
   ]
  },
  {
   "cell_type": "code",
   "execution_count": 91,
   "metadata": {},
   "outputs": [],
   "source": [
    "for j in range(m,-1,-1):\n",
    "    v[j] = u[j] - v.dot(AA[j])"
   ]
  },
  {
   "cell_type": "code",
   "execution_count": 92,
   "metadata": {},
   "outputs": [
    {
     "data": {
      "text/plain": [
       "array([ 1.,  1., -1.])"
      ]
     },
     "execution_count": 92,
     "metadata": {},
     "output_type": "execute_result"
    }
   ],
   "source": [
    "v"
   ]
  },
  {
   "cell_type": "markdown",
   "metadata": {},
   "source": [
    "### Solution with numpy.linalg\n",
    "\n",
    "As an example we define a matrix $\\matrix{A}$ and carry out the dot product with a vector $vec{u}$. "
   ]
  },
  {
   "cell_type": "code",
   "execution_count": 12,
   "metadata": {},
   "outputs": [
    {
     "data": {
      "text/plain": [
       "matrix([[5, 4]])"
      ]
     },
     "execution_count": 12,
     "metadata": {},
     "output_type": "execute_result"
    }
   ],
   "source": [
    "import numpy as np\n",
    "A=np.matrix([[1,2],[1,1]])\n",
    "u=np.array([3,1])\n",
    "A.dot(u)"
   ]
  },
  {
   "cell_type": "markdown",
   "metadata": {},
   "source": [
    "$ \\matrix{A} \\cdot \\vec{u} = \\vec{v}$, given $\\vec{v}$ and $\\matrix{A}$ what is $\\vec{u}$?"
   ]
  },
  {
   "cell_type": "code",
   "execution_count": 13,
   "metadata": {},
   "outputs": [
    {
     "data": {
      "text/plain": [
       "array([ 3.,  1.])"
      ]
     },
     "execution_count": 13,
     "metadata": {},
     "output_type": "execute_result"
    }
   ],
   "source": [
    "v=np.array([5,4])\n",
    "np.linalg.solve(A,v)"
   ]
  },
  {
   "cell_type": "code",
   "execution_count": null,
   "metadata": {},
   "outputs": [],
   "source": []
  }
 ],
 "metadata": {
  "kernelspec": {
   "display_name": "Python 3",
   "language": "python",
   "name": "python3"
  },
  "language_info": {
   "codemirror_mode": {
    "name": "ipython",
    "version": 3
   },
   "file_extension": ".py",
   "mimetype": "text/x-python",
   "name": "python",
   "nbconvert_exporter": "python",
   "pygments_lexer": "ipython3",
   "version": "3.5.2"
  }
 },
 "nbformat": 4,
 "nbformat_minor": 2
}
