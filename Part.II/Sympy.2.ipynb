{
 "cells": [
  {
   "cell_type": "markdown",
   "metadata": {},
   "source": [
    "# Sympy 2 -- Application to Newton's method\n",
    "\n",
    "In this notebook we will focus on applying Sympy to accomplish a task. We will use it to set up Newton's method, comparing our initial point to the roots Newton's method (eventually) finds.\n",
    "\n",
    "* * * \n",
    "\n",
    "Newton's method is the technique of iteratively using the linear approximation of a function to search for roots.  Say we want to find a solution to the equation\n",
    "\n",
    "$$f(x) = 0$$\n",
    "\n",
    "where, $f$ is a real-valued function of a real variable $f : \\mathbb R \\to \\mathbb R$.\n",
    "\n",
    "Start with an initial guess $x_0 \\in \\mathbb R$. The linear approximation $L$ at $x_0$ (to $f$) is the function\n",
    "\n",
    "$$L_{x_0}(x) = f(x_0) + f'(x_0)(x-x_0).$$\n",
    "\n",
    "Rather than trying to solve $f(x)=0$ we solve $L_{x_0}(x)=0$, which gives us\n",
    "\n",
    "$$x = x_0-\\frac{f(x_0)}{f'(x_0)}.$$\n",
    "\n",
    "Newton's method is the process of replacing the initial guess $x_0$ with the solution to $L_{x_0}(x) = 0$, i.e. \n",
    "\n",
    "$$x_0 \\longmapsto x_0-\\frac{f(x_0)}{f'(x_0)}.$$\n",
    "\n",
    "The function that sends $x_0$ to $x_0 -\\frac{f(x_0)}{f'(x_0)}$ is called the **Newton iterate**, let's call this function $N_f$, i.e.\n",
    "\n",
    "$$N_f(x) = x - \\frac{f(x)}{f'(x)}.$$\n",
    "\n",
    "* * *\n",
    "\n",
    "For example, if $f(x) = x^2 - c$, then solving $f(x) = 0$ is equivalent to computing a square root of $c$.  On the other hand, the *Newton iterate* is the function\n",
    "\n",
    "$$N_f(x) = x - \\frac{x^2 - c}{2x} = \\frac{x}{2} + \\frac{c}{2x}.$$\n",
    "\n",
    "This illustrates the compromise made with Newton's method: if one does not have a convenient direct way to compute square roots, one can get a good approximation by iteratively computing $N_f$, which uses only the operations of addition, multiplication and division. \n",
    "\n",
    "* * *\n",
    "\n",
    "As an initial exercise, let's use Sympy to compute the Newton iterates of functions.  We will then make a plot of $f$, $N$ as well as applications of the Newton iterate to some initial guesses. \n"
   ]
  },
  {
   "cell_type": "code",
   "execution_count": 118,
   "metadata": {
    "collapsed": false
   },
   "outputs": [],
   "source": [
    "import sympy as sp\n",
    "\n"
   ]
  },
  {
   "cell_type": "code",
   "execution_count": null,
   "metadata": {
    "collapsed": false
   },
   "outputs": [],
   "source": []
  },
  {
   "cell_type": "code",
   "execution_count": null,
   "metadata": {
    "collapsed": true
   },
   "outputs": [],
   "source": []
  },
  {
   "cell_type": "code",
   "execution_count": null,
   "metadata": {
    "collapsed": false
   },
   "outputs": [],
   "source": []
  },
  {
   "cell_type": "code",
   "execution_count": null,
   "metadata": {
    "collapsed": false
   },
   "outputs": [],
   "source": []
  }
 ],
 "metadata": {
  "anaconda-cloud": {},
  "kernelspec": {
   "display_name": "Python [conda root]",
   "language": "python",
   "name": "conda-root-py"
  },
  "language_info": {
   "codemirror_mode": {
    "name": "ipython",
    "version": 3
   },
   "file_extension": ".py",
   "mimetype": "text/x-python",
   "name": "python",
   "nbconvert_exporter": "python",
   "pygments_lexer": "ipython3",
   "version": "3.5.2"
  }
 },
 "nbformat": 4,
 "nbformat_minor": 1
}
