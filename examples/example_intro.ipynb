{
 "cells": [
  {
   "cell_type": "markdown",
   "metadata": {},
   "source": [
    "# Time delay radio signal\n",
    "\n",
    "This notebook calculates the approximate time delay of a radio signal traveling from the equator to the north pole.  "
   ]
  },
  {
   "cell_type": "code",
   "execution_count": 12,
   "metadata": {},
   "outputs": [
    {
     "name": "stdout",
     "output_type": "stream",
     "text": [
      "3.14 3.141592653589793\n"
     ]
    }
   ],
   "source": [
    "pi=3.14\n",
    "import numpy as np\n",
    "print(pi,np.pi)"
   ]
  },
  {
   "cell_type": "code",
   "execution_count": 13,
   "metadata": {
    "collapsed": true
   },
   "outputs": [],
   "source": [
    "# define physical constants\n",
    "r_earth = 6400 # km\n",
    "c_light = 3.e5 # km/s "
   ]
  },
  {
   "cell_type": "markdown",
   "metadata": {},
   "source": [
    "Calculate the distance as the quoarter of the circumference of a circle with radius of earth. The circumference is calculated as\n",
    "$$  c = 2 \\pi R_\\mathrm{earth}$$"
   ]
  },
  {
   "cell_type": "code",
   "execution_count": 14,
   "metadata": {
    "collapsed": true
   },
   "outputs": [],
   "source": [
    "# calculate distance\n",
    "distance = 0.25 * 2. * np.pi * r_earth"
   ]
  },
  {
   "cell_type": "code",
   "execution_count": 15,
   "metadata": {},
   "outputs": [],
   "source": [
    "t_delay = distance / c_light"
   ]
  },
  {
   "cell_type": "code",
   "execution_count": 16,
   "metadata": {},
   "outputs": [
    {
     "name": "stdout",
     "output_type": "stream",
     "text": [
      "The time delay is: 3.35e-02 s\n"
     ]
    }
   ],
   "source": [
    "print(\"The time delay is: %.2e s\" % t_delay)"
   ]
  },
  {
   "cell_type": "markdown",
   "metadata": {},
   "source": [
    "## Discussion\n",
    "Radio waves zigzag some longer path bouncing at the [ionosphere](https://en.wikipedia.org/wiki/Ionosphere).  So this is just an approximation. "
   ]
  },
  {
   "cell_type": "code",
   "execution_count": null,
   "metadata": {},
   "outputs": [],
   "source": []
  }
 ],
 "metadata": {
  "kernelspec": {
   "display_name": "Python 3",
   "language": "python",
   "name": "python3"
  },
  "language_info": {
   "codemirror_mode": {
    "name": "ipython",
    "version": 3
   },
   "file_extension": ".py",
   "mimetype": "text/x-python",
   "name": "python",
   "nbconvert_exporter": "python",
   "pygments_lexer": "ipython3",
   "version": "3.5.2"
  }
 },
 "nbformat": 4,
 "nbformat_minor": 2
}
